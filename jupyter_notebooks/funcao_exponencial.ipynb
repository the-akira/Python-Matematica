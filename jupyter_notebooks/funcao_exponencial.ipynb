{
 "cells": [
  {
   "cell_type": "markdown",
   "metadata": {},
   "source": [
    "# Função Exponencial\n",
    "\n",
    "Na matemática, uma **[função exponencial](https://en.wikipedia.org/wiki/Exponential_function)** é uma função que assume a seguinte forma:\n",
    "\n",
    "$ f(x) = ab^{x} $\n",
    "\n",
    "Em que `b` é um número real positivo, ao qual o argumento `x` ocorre como um expoente. Para números reais `c` e `d`, uma função na forma $f(x) = ab^{cx + d}$ também é considerado uma função exponencial, e pode também ser escrita da seguinte forma:\n",
    "\n",
    "$ f(x) = ab^{cx + d} = (ab^{d})(b^{c})^{x} $\n",
    "\n",
    "Como funções de uma variável real, as funções exponenciais são caracterizadas exclusivamente pelo fato de que a taxa de crescimento de uma função (ou seja, sua derivada) é diretamente proporcional ao valor da função. A constante de proporcionalidade dessa relação é o **logaritmo natural** da base `b`:\n",
    "\n",
    "$ \\frac{d}{dx}b^{x} = b^{x} \\log_e(b) $\n",
    "\n",
    "Para `b = 1`, a função exponencial real é uma constante e a derivada é `zero` porque $\\log_e(b) = 0$, para positivo `a` e `b > 1`, as funções exponenciais reais estão aumentando monotonicamente (como demonstrado na figura para `b = e` e `b = 2`). Pelo fato da derivada ser maior que zero para todos os argumentos e para `b < 1` eles estão diminuindo monotonicamente (como demonstrado na figura para $b = \\frac{1}{2} = 0.5$), uma vez que a derivada é menor que zero para todos os argumentos.\n",
    "\n",
    "![img](https://upload.wikimedia.org/wikipedia/commons/d/dc/Exponenciala_priklad.png)\n",
    "\n",
    "A constante `e = 2,71828...` é a base única para a qual a constante de proporcionalidade é `1`, de modo que a derivada da função é ela mesma:\n",
    "\n",
    "$\\frac{d}{dx}e^{x} = e^{x}\\log_e(e) = e^{x}$\n",
    "\n",
    "Como a alteração da base da função exponencial resulta apenas no aparecimento de um fator `constante` adicional, é conveniente computacionalmente reduzir o estudo de funções exponenciais em análise matemática ao estudo dessa função específica, convencionalmente chamada de \"função exponencial natural\", ou simplesmente \"a função exponencial\", denotada por:\n",
    "\n",
    "$ x \\rightarrowtail e^{x} \\quad\\quad ou \\quad\\quad x \\rightarrowtail exp(x) $\n",
    "\n",
    "Vamos importar as bibliotecas matemáticas necessárias para vermos exemplos com Python:"
   ]
  },
  {
   "cell_type": "code",
   "execution_count": 1,
   "metadata": {},
   "outputs": [],
   "source": [
    "import matplotlib.pyplot as plt\n",
    "import numpy as np \n",
    "import sympy as sym\n",
    "import math"
   ]
  },
  {
   "cell_type": "markdown",
   "metadata": {},
   "source": [
    "Definimos os símbolos $x$ e $t$:"
   ]
  },
  {
   "cell_type": "code",
   "execution_count": 2,
   "metadata": {},
   "outputs": [],
   "source": [
    "x, t = sym.symbols('x t')"
   ]
  },
  {
   "cell_type": "markdown",
   "metadata": {},
   "source": [
    "Vamos definir um número `z = 2` e calcular o exponencial dele através da função `exp()` da biblioteca math:"
   ]
  },
  {
   "cell_type": "code",
   "execution_count": 3,
   "metadata": {},
   "outputs": [
    {
     "data": {
      "text/plain": [
       "7.38905609893065"
      ]
     },
     "execution_count": 3,
     "metadata": {},
     "output_type": "execute_result"
    }
   ],
   "source": [
    "z = 2\n",
    "\n",
    "math.exp(z)"
   ]
  },
  {
   "cell_type": "markdown",
   "metadata": {},
   "source": [
    "Podemos também utilizar a biblioteca **NumPy** para realizar este cálculo:"
   ]
  },
  {
   "cell_type": "code",
   "execution_count": 4,
   "metadata": {},
   "outputs": [
    {
     "data": {
      "text/plain": [
       "7.38905609893065"
      ]
     },
     "execution_count": 4,
     "metadata": {},
     "output_type": "execute_result"
    }
   ],
   "source": [
    "np.exp(z)"
   ]
  },
  {
   "cell_type": "markdown",
   "metadata": {},
   "source": [
    "Ou até mesmo a biblioteca **SymPy**, que nos trará uma representação simbólica do resultado:"
   ]
  },
  {
   "cell_type": "code",
   "execution_count": 5,
   "metadata": {},
   "outputs": [
    {
     "data": {
      "text/latex": [
       "$\\displaystyle e^{2}$"
      ],
      "text/plain": [
       "exp(2)"
      ]
     },
     "execution_count": 5,
     "metadata": {},
     "output_type": "execute_result"
    }
   ],
   "source": [
    "sym.exp(z)"
   ]
  },
  {
   "cell_type": "markdown",
   "metadata": {},
   "source": [
    "Podemos também definir nossa própria função exponencial. \n",
    "\n",
    "Para nos auxiliar nessa computação, vamos utilizar o número `e` definido na biblioteca **math**:"
   ]
  },
  {
   "cell_type": "code",
   "execution_count": 6,
   "metadata": {},
   "outputs": [],
   "source": [
    "def exponencial(n):\n",
    "    return math.e ** n"
   ]
  },
  {
   "cell_type": "markdown",
   "metadata": {},
   "source": [
    "Da mesma forma, podemos realizar o cálculo anterior com esta função:"
   ]
  },
  {
   "cell_type": "code",
   "execution_count": 7,
   "metadata": {},
   "outputs": [
    {
     "data": {
      "text/plain": [
       "7.3890560989306495"
      ]
     },
     "execution_count": 7,
     "metadata": {},
     "output_type": "execute_result"
    }
   ],
   "source": [
    "exponencial(z)"
   ]
  },
  {
   "cell_type": "markdown",
   "metadata": {},
   "source": [
    "### Projetando um Gráfico Exponencial\n",
    "\n",
    "Vamos definir um array de dados de entrada:"
   ]
  },
  {
   "cell_type": "code",
   "execution_count": 49,
   "metadata": {},
   "outputs": [],
   "source": [
    "dados = np.linspace(-np.pi, np.pi, 50) "
   ]
  },
  {
   "cell_type": "markdown",
   "metadata": {},
   "source": [
    "Agora podemos inserir os dados em nossas funções exponenciais:\n",
    "\n",
    "1. $ \\quad f(x) = e^{x} $\n",
    "2. $ \\quad f(x) = 2e^{x} $\n",
    "3. $ \\quad f(x) = -e^{x} $"
   ]
  },
  {
   "cell_type": "code",
   "execution_count": 50,
   "metadata": {},
   "outputs": [],
   "source": [
    "exp_1 = np.exp(dados)\n",
    "exp_2 = 2 * np.exp(dados)\n",
    "exp_3 = -np.exp(dados)"
   ]
  },
  {
   "cell_type": "markdown",
   "metadata": {},
   "source": [
    "Finalmente vamos plotar os dados em nosso gráfico:"
   ]
  },
  {
   "cell_type": "code",
   "execution_count": 51,
   "metadata": {},
   "outputs": [
    {
     "data": {
      "image/png": "[encoded data removed]",
      "text/plain": [
       "<Figure size 1008x576 with 1 Axes>"
      ]
     },
     "metadata": {
      "needs_background": "light"
     },
     "output_type": "display_data"
    }
   ],
   "source": [
    "plt.figure(figsize=(14,8))\n",
    "plt.xlabel('Dados de entrada', fontsize=16)\n",
    "plt.ylabel('Exponencial', fontsize=16)\n",
    "plt.title('Gráfico de Funções Exponenciais', fontsize=25)\n",
    "plt.grid()\n",
    "plt.plot(dados, exp_1, linewidth=4, color='b', label='Exponencial 1')\n",
    "plt.plot(dados, exp_2, linewidth=4, color='g', label='Exponencial 2')\n",
    "plt.plot(dados, exp_3, linewidth=4, color='r', label='Exponencial 3')\n",
    "plt.legend(fontsize=16)\n",
    "plt.show()"
   ]
  },
  {
   "cell_type": "markdown",
   "metadata": {},
   "source": [
    "Observe que temos duas funções de crescimento exponencial, representados na imagem respectivamente por `verde` e `azul` e uma de decaimento exponencial, representado na imagem por `vermelho`."
   ]
  },
  {
   "cell_type": "markdown",
   "metadata": {},
   "source": [
    "### Calculando a Derivada da Função Exponencial\n",
    "\n",
    "Vimos que a derivada da função exponencial é ela mesma, vejamos então como podemos utilizar a biblioteca **sympy** para ilustrarmos essa afirmação."
   ]
  },
  {
   "cell_type": "code",
   "execution_count": 52,
   "metadata": {},
   "outputs": [
    {
     "data": {
      "text/latex": [
       "$\\displaystyle e^{x}$"
      ],
      "text/plain": [
       "exp(x)"
      ]
     },
     "execution_count": 52,
     "metadata": {},
     "output_type": "execute_result"
    }
   ],
   "source": [
    "funcao_exponencial = sym.exp(x)\n",
    "funcao_exponencial"
   ]
  },
  {
   "cell_type": "markdown",
   "metadata": {},
   "source": [
    "Usaremos o método `diff()` para calcular a derivada:"
   ]
  },
  {
   "cell_type": "code",
   "execution_count": 53,
   "metadata": {},
   "outputs": [
    {
     "data": {
      "text/latex": [
       "$\\displaystyle e^{x}$"
      ],
      "text/plain": [
       "exp(x)"
      ]
     },
     "execution_count": 53,
     "metadata": {},
     "output_type": "execute_result"
    }
   ],
   "source": [
    "derivada_exponencial = sym.diff(funcao_exponencial)\n",
    "derivada_exponencial"
   ]
  },
  {
   "cell_type": "code",
   "execution_count": 54,
   "metadata": {},
   "outputs": [
    {
     "data": {
      "text/plain": [
       "True"
      ]
     },
     "execution_count": 54,
     "metadata": {},
     "output_type": "execute_result"
    }
   ],
   "source": [
    "funcao_exponencial == derivada_exponencial"
   ]
  },
  {
   "cell_type": "markdown",
   "metadata": {},
   "source": [
    "A derivada (taxa de variação) da **função exponencial** é a própria **função exponencial**. Geralmente, uma função com uma taxa de mudança proporcional à própria função (e não igual a ela) é expressável em termos da função exponencial. Esta propriedade da função leva ao crescimento exponencial ou decaimento exponencial."
   ]
  },
  {
   "cell_type": "markdown",
   "metadata": {},
   "source": [
    "### Função Exponencial como Série de Potências\n",
    "\n",
    "A função exponencial real `exp`: $\\mathbb{R} \\rightarrow \\mathbb{R}$ pode ser caracterizado de diversas maneiras equivalentes. Geralmente, é definido pelas seguintes séries de potência:"
   ]
  },
  {
   "cell_type": "code",
   "execution_count": 55,
   "metadata": {},
   "outputs": [
    {
     "data": {
      "text/latex": [
       "$\\displaystyle \\left(\\sum_{k=1}^{\\infty} \\begin{cases} \\frac{x^{k}}{k!} & \\text{for}\\: k\\bmod{1} = 0 \\\\0 & \\text{otherwise} \\end{cases}\\right) + 1$"
      ],
      "text/plain": [
       "FormalPowerSeries(exp(x), x, 0, 1, (SeqFormula(Piecewise((1/factorial(_k), Eq(Mod(_k, 1), 0)), (0, True)), (_k, 1, oo)), SeqFormula(x**_k, (_k, 0, oo)), 1))"
      ]
     },
     "execution_count": 55,
     "metadata": {},
     "output_type": "execute_result"
    }
   ],
   "source": [
    "sym.fps(sym.exp(x))"
   ]
  },
  {
   "cell_type": "code",
   "execution_count": 56,
   "metadata": {},
   "outputs": [
    {
     "data": {
      "text/latex": [
       "$\\displaystyle 1 + x + \\frac{x^{2}}{2} + \\frac{x^{3}}{6} + \\frac{x^{4}}{24} + \\frac{x^{5}}{120} + O\\left(x^{6}\\right)$"
      ],
      "text/plain": [
       "1 + x + x**2/2 + x**3/6 + x**4/24 + x**5/120 + O(x**6)"
      ]
     },
     "execution_count": 56,
     "metadata": {},
     "output_type": "execute_result"
    }
   ],
   "source": [
    "sym.series(sym.exp(x))"
   ]
  },
  {
   "cell_type": "markdown",
   "metadata": {},
   "source": [
    "Como o raio de convergência dessa série de potências é infinito, essa definição é, de fato, aplicável a todos os números complexos $z \\in \\mathbb{C}$. A constante $e$ pode ser definida como $e = exp(1) = \\sum_{k=0}^{\\infty}\\frac{1}{k!}$"
   ]
  },
  {
   "cell_type": "markdown",
   "metadata": {},
   "source": [
    "A diferenciação termo a termo desta série de potências revela que $\\frac{d}{dx}exp(x) = exp(x)$ para todos reais `x`, levando a outra caracterização comum de `exp(x)` como a solução única da equação diferencial:\n",
    "\n",
    "$ y'(x) = y(x) $\n",
    "\n",
    "Satisfazendo a condição inicial $y(0) = 1$."
   ]
  },
  {
   "cell_type": "code",
   "execution_count": 66,
   "metadata": {},
   "outputs": [
    {
     "data": {
      "text/plain": [
       "True"
      ]
     },
     "execution_count": 66,
     "metadata": {},
     "output_type": "execute_result"
    }
   ],
   "source": [
    "sym.exp(0) == int(np.exp(0)) == int(math.exp(0)) == 1"
   ]
  },
  {
   "cell_type": "markdown",
   "metadata": {},
   "source": [
    "Com base nessa caracterização, a regra da cadeia mostra que sua função inversa, o logaritmo natural, satisfaz $\\frac{d}{dy}log_e(y) = \\frac{1}{y}$ para $y > 0$ ou $log_e(y) = \\int_{1}^{y}\\frac{1}{t}dt$. \n",
    "\n",
    "Essa relação leva a uma definição menos comum da função exponencial real `exp(x)` como solução `y` para a equação:\n",
    "\n",
    "$x = \\int_{1}^{y}\\frac{1}{t}dt$"
   ]
  },
  {
   "cell_type": "code",
   "execution_count": 65,
   "metadata": {},
   "outputs": [
    {
     "data": {
      "text/latex": [
       "$\\displaystyle \\frac{1}{t}$"
      ],
      "text/plain": [
       "1/t"
      ]
     },
     "execution_count": 65,
     "metadata": {},
     "output_type": "execute_result"
    }
   ],
   "source": [
    "sym.integrate(sym.diff(1/t), t)"
   ]
  },
  {
   "cell_type": "markdown",
   "metadata": {},
   "source": [
    "Por meio do teorema binomial e da definição de séries de potência, a função exponencial também pode ser definida como o seguinte limite:\n",
    "\n",
    "$ exp(x) = \\lim_{n\\to\\infty}\\left(1 + \\frac{{x}}{{n}}\\right)^n$"
   ]
  },
  {
   "cell_type": "code",
   "execution_count": 64,
   "metadata": {},
   "outputs": [
    {
     "data": {
      "text/latex": [
       "$\\displaystyle e^{x}$"
      ],
      "text/plain": [
       "exp(x)"
      ]
     },
     "execution_count": 64,
     "metadata": {},
     "output_type": "execute_result"
    }
   ],
   "source": [
    "infinito = sym.oo\n",
    "n = sym.Symbol('n')\n",
    "\n",
    "sym.limit((1 + x/n)**n, n, infinito)"
   ]
  },
  {
   "cell_type": "markdown",
   "metadata": {},
   "source": [
    "A função exponencial surge sempre que uma quantidade cresce ou decai a uma taxa proporcional ao seu valor atual. Uma dessas situações é o **[juros continuamente composto](https://en.wikipedia.org/wiki/Continuously_compounded_interest)** e, de fato, foi essa observação que levou **[Jacob Bernoulli](https://en.wikipedia.org/wiki/Jacob_Bernoulli)** em 1683 ao número atualmente conhecido como `e`, que vimos diversas vezes ao longo de nosso estudo."
   ]
  }
 ],
 "metadata": {
  "kernelspec": {
   "display_name": "Python 3",
   "language": "python",
   "name": "python3"
  },
  "language_info": {
   "codemirror_mode": {
    "name": "ipython",
    "version": 3
   },
   "file_extension": ".py",
   "mimetype": "text/x-python",
   "name": "python",
   "nbconvert_exporter": "python",
   "pygments_lexer": "ipython3",
   "version": "3.7.10"
  }
 },
 "nbformat": 4,
 "nbformat_minor": 4
}
