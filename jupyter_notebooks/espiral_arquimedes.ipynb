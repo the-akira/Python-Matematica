{
 "cells": [
  {
   "cell_type": "markdown",
   "metadata": {},
   "source": [
    "# Espiral Arquimediana\n",
    "\n",
    "A [Espiral Arquimediana](https://en.wikipedia.org/wiki/Archimedean_spiral), também conhecida por espiral aritmética, obteve seu nome do matemático grego Arquimedes, que viveu no século III antes de Cristo. Se define como o lugar geométrico de um ponto movendo-se a velocidade constante sobre uma reta que gira sobre um ponto de origem fixo à velocidade angular constante. \n",
    "\n",
    "Equivalentemente, em coordenadas polares $(r, \\theta)$, pode ser descrita pela seguinte equação:\n",
    "\n",
    "\\begin{equation}\n",
    "r = a + b\\theta\n",
    "\\end{equation}\n",
    "\n",
    "Sendo $a$ e $b$ números reais.\n",
    "\n",
    "Alterando o parâmetro $a$ vira a espiral, enquanto que o parâmetro $b$ controla a distância entre os sucessivos giros.\n",
    "\n",
    "Da equação acima, pode-se afirmar: a posição da partícula a partir do ponto de partida é proporcional ao ângulo $\\theta$ conforme o tempo passa.\n",
    "\n",
    "O código a seguir é capaz de gerar a espiral:"
   ]
  },
  {
   "cell_type": "code",
   "execution_count": 16,
   "metadata": {},
   "outputs": [],
   "source": [
    "from turtle import *\n",
    "from math import *\n",
    "\n",
    "color(\"blue\")\n",
    "down()\n",
    "for i in range(250):\n",
    "    t = i / 10 * pi\n",
    "    x = (1 + 5 * t) * cos(t)\n",
    "    y = (1 + 5 * t) * sin(t)\n",
    "    goto(x, y)\n",
    "up()\n",
    "done()"
   ]
  },
  {
   "cell_type": "markdown",
   "metadata": {},
   "source": [
    "## Visualizando o Resultado\n",
    "\n",
    "![img](https://raw.githubusercontent.com/the-akira/Python-Matematica/master/imagens/archimedeanspiral.png)"
   ]
  }
 ],
 "metadata": {
  "kernelspec": {
   "display_name": "Python 3",
   "language": "python",
   "name": "python3"
  },
  "language_info": {
   "codemirror_mode": {
    "name": "ipython",
    "version": 3
   },
   "file_extension": ".py",
   "mimetype": "text/x-python",
   "name": "python",
   "nbconvert_exporter": "python",
   "pygments_lexer": "ipython3",
   "version": "3.7.10"
  }
 },
 "nbformat": 4,
 "nbformat_minor": 4
}
