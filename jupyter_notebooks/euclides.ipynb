{
 "cells": [
  {
   "cell_type": "markdown",
   "metadata": {},
   "source": [
    "# Algoritmo Euclidiano\n",
    "\n",
    "Em matemática, o algoritmo euclidiano, ou algoritmo de Euclides, é um método eficiente para calcular o máximo divisor comum (**greatest common divisor** - GCD) de dois inteiros (números), o maior número que os divide sem deixar resto. Recebeu o nome do antigo matemático grego Euclides, que o descreveu pela primeira vez em seus livros **Elements**.\n",
    "\n",
    "É um exemplo de algoritmo, um procedimento passo a passo para realizar um cálculo de acordo com regras bem definidas e é um dos algoritmos mais antigos em uso comum. Ele pode ser usado para reduzir as frações à sua forma mais simples.\n",
    "\n",
    "O algoritmo euclidiano tem muitas aplicações teóricas e práticas. É usado para reduzir as frações à sua forma mais simples e para realizar a divisão em aritmética modular. Os cálculos que usam esse algoritmo fazem parte dos protocolos criptográficos usados para proteger as comunicações da Internet e nos métodos para quebrar esses criptosistemas pela fatoração de grandes números compostos.\n",
    "\n",
    "O algoritmo euclidiano calcula o máximo divisor comum de dois números naturais $a$ e $b$. O maior divisor comum $g$ é o maior número natural que divide $a$ e $b$ sem deixar resto.\n",
    "\n",
    "## Procedimento\n",
    "\n",
    "O algoritmo euclidiano prossegue em uma série de etapas, de modo que a saída de cada etapa é usada como entrada para a próxima. \n",
    "\n",
    "Seja $k$ um inteiro que conta os passos do algoritmo, começando com zero. Assim, a etapa inicial corresponde a $k = 0$, a próxima etapa corresponde a $k = 1$ e assim por diante.\n",
    "\n",
    "Cada etapa começa com dois restos não negativos $r_{k - 1}$ e $r_{k - 2}$. Uma vez que o algoritmo garante que os restos diminuam constantemente a cada passo, $r_{k - 1}$ é menor que seu predecessor $r_{k - 2}$. O objetivo da k-ésima etapa é encontrar um quociente $q_k$ e o resto $r_k$ que satisfaçam a equação:\n",
    "\n",
    "$r_{k - 2} = q_k r_k + r_k$\n",
    "\n",
    "E que tem $0 \\leq r_k < r_{k - 1}$. Em outras palavras, múltiplos do número menor $r_{k - 1}$ são subtraídos do número maior $r_{k - 2}$ até que o restante $r_k$ seja menor que $r_{k - 1}$.\n",
    "\n",
    "Na etapa inicial ($k = 0$), os restos $r_{-2}$ e $r_{-1}$ são iguais a $a$e $b$, os números para os quais o GCD é procurado. Na próxima etapa ($k = 1$), os restantes são iguais a $b$ e o restante $r_0$ da etapa inicial, e assim por diante. Assim, o algoritmo pode ser escrito como uma sequência de equações:\n",
    "\n",
    "\\begin{equation}\n",
    "a = q_0b + r_0\n",
    "\\end{equation}\n",
    "\n",
    "\\begin{equation}\n",
    "b = q_1 r_0 + r_1\n",
    "\\end{equation}\n",
    "\n",
    "\\begin{equation}\n",
    "r_0 = q_2 r_1 + r_2\n",
    "\\end{equation}\n",
    "\n",
    "\\begin{equation}\n",
    "r_1 = q_3 r_2 + r_3\n",
    "\\end{equation}\n",
    "\n",
    "\\begin{equation}\n",
    "...\n",
    "\\end{equation}\n",
    "\n",
    "Se $a$ for menor que $b$, a primeira etapa do algoritmo troca os números. Por exemplo, se $a < b$, o quociente inicial $q_0$ é igual a zero e o resto $r_0$ é $a$. Assim, $r_k$ é menor que seu predecessor $r_{k - 1}$ para todo $k \\geq 0$.\n",
    "\n",
    "Como os remanescentes diminuem a cada passo, mas nunca podem ser negativos, um resto $r_N$ deve eventualmente ser igual a zero, ponto em que o algoritmo para. O resto final diferente de zero $r_{N - 1}$ é o máximo divisor comum de $a$ e $b$. O número $N$ não pode ser infinito porque há apenas um número finito de inteiros não negativos entre o resto inicial $r_0$ e zero.\n",
    "\n",
    "## Prova de Validade\n",
    "\n",
    "A validade do algoritmo euclidiano pode ser comprovada por um argumento de duas etapas.\n",
    "\n",
    "Na primeira etapa, o resto final de zero $r_{N - 1}$ é mostrado para dividir ambos $a$ e $b$. Uma vez que é um divisor comum, deve ser menor ou igual ao máximo divisor comum $g$. \n",
    "\n",
    "Na segunda etapa, é mostrado que qualquer divisor comum de $a$ e $b$, incluindo $g$, deve dividir $r_{N - 1}$; portanto, $g$ deve ser menor ou igual a $r_{N - 1}$. Essas duas conclusões são inconsistentes, a menos que $r_{N - 1} = g$.\n",
    "\n",
    "Para demonstrar que $r_{N - 1}$ divide ambos $a$ e $b$ (a primeira etapa), $r_{N - 1}$ divide seu predecessor $r_{N - 2}$:\n",
    "\n",
    "\\begin{equation}\n",
    "r_{N - 2} = q_N r_{N - 1}\n",
    "\\end{equation}\n",
    "\n",
    "Já que o resto final $r_N$ é zero. $r_{N - 1}$ também divide seu próximo predecessor $r_{N - 3}$:\n",
    "\n",
    "\\begin{equation}\n",
    "r_{N - 3} = q_{N - 1} r_{N - 2} + r_{N - 1}\n",
    "\\end{equation}\n",
    "\n",
    "Porque ele divide os dois termos no lado direito da equação. Iterando o mesmo argumento, $r_{N - 1}$ divide todos os restos anteriores, incluindo $a$ e $b$. Nenhum dos restos precedentes $r_{N - 2}$, $r_{N - 3}$, etc. divide $a$ e $b$, pois eles deixam um resto. Como $r_{N - 1}$ é um divisor comum de $a$ e $b$, então $r_{N - 1} \\leq g$.\n",
    "\n",
    "Na segunda etapa, qualquer número natural $c$ que divide $a$ e $b$ (em outras palavras, qualquer divisor comum de $a$ e $b$) divide os restantes $r_k$. Por definição, $a$ e $b$ podem ser escritos como múltiplos de $c$: $a = mc$ e $b = nc$, onde $m$ e $n$ são números naturais. Portanto, $c$ divide o resto inicial $r_0$, uma vez que $r_0 = a - q_0b = mc - q_0nc = (m - q_0n) c$. Um argumento análogo mostra que $c$ também divide os restos subsequentes $r_1$, $r_2$, etc. Portanto, o maior divisor comum g deve dividir $r_{N - 1}$, o que implica que $g \\leq r_{N - 1}$. Como a primeira parte do argumento mostrou o inverso $(r_{N - 1} \\leq g)$, segue-se que $g = r_{N - 1}$. Assim, $g$ é o maior divisor comum de todos os pares sucessivos:\n",
    "\n",
    "\\begin{equation}\n",
    "g = gcd(a,b) = gcd(b,r_0) = gcd(r_0,r_1) = ... = gcd(r_{N-2},r_{N-1}) = r_{N-1}\n",
    "\\end{equation}\n",
    "\n",
    "## Exemplo\n",
    "\n",
    "Para ilustração, o algoritmo euclidiano pode ser usado para encontrar o maior divisor comum de $a = 1071$ e $b = 462$. \n",
    "\n",
    "Para começar, múltiplos de $462$ são subtraídos de $1071$ até que o resto seja menor que $462$. Dois desses múltiplos podem ser subtraídos ($q_0 = 2$), deixando um resto de $147$:\n",
    "\n",
    "$1071 = 2 \\times 462 + 147$\n",
    "\n",
    "Em seguida, múltiplos de $147$ são subtraídos de $462$ até que o restante seja inferior a $147$. Três múltiplos podem ser subtraídos ($q_1 = 3$), deixando um restante de $21$:\n",
    "\n",
    "$462 = 3 \\times 147 + 21$\n",
    "\n",
    "Em seguida, os múltiplos de $21$ são subtraídos de $147$ até que o restante seja inferior a $21$. Sete múltiplos podem ser subtraídos ($q_2 = 7$), não deixando nenhum resto:\n",
    "\n",
    "$147 = 7 \\times 21 + 0$\n",
    "\n",
    "Como o último resto é zero, o algoritmo termina com **21** como o máximo divisor comum de $1071$ e $462$.\n",
    "\n",
    "## Python\n",
    "\n",
    "Agora que conhecemos os fundamentos matemáticos do algoritmo euclidiano, vamos implementá-lo com a linguagem Python:"
   ]
  },
  {
   "cell_type": "code",
   "execution_count": 43,
   "metadata": {},
   "outputs": [],
   "source": [
    "from math import floor\n",
    "\n",
    "def algoritmo_euclidiano(x, y, verbose=True):\n",
    "    k = 0\n",
    "    if x < y: \n",
    "        return algoritmo_euclidiano(y, x, verbose)\n",
    "    while y != 0:\n",
    "        k += 1\n",
    "        if verbose: \n",
    "            print(f'{x} = {floor(x/y)} * {y} + {x%y}')\n",
    "        (x, y) = (y, x % y)\n",
    "    if verbose: \n",
    "        print(f'máximo divisor comum é = {x}, após {k} iterações') \n",
    "    return x"
   ]
  },
  {
   "cell_type": "markdown",
   "metadata": {},
   "source": [
    "Definida a função do algoritmo, podemos testá-lo invocando ela:"
   ]
  },
  {
   "cell_type": "code",
   "execution_count": 44,
   "metadata": {},
   "outputs": [
    {
     "name": "stdout",
     "output_type": "stream",
     "text": [
      "1071 = 2 * 462 + 147\n",
      "462 = 3 * 147 + 21\n",
      "147 = 7 * 21 + 0\n",
      "máximo divisor comum é = 21, após 3 iterações\n"
     ]
    },
    {
     "data": {
      "text/plain": [
       "21"
      ]
     },
     "execution_count": 44,
     "metadata": {},
     "output_type": "execute_result"
    }
   ],
   "source": [
    "algoritmo_euclidiano(1071, 462)"
   ]
  },
  {
   "cell_type": "markdown",
   "metadata": {},
   "source": [
    "Podemos optar por silenciar o algoritmo, ao setarmos `verbose = False`:"
   ]
  },
  {
   "cell_type": "code",
   "execution_count": 45,
   "metadata": {},
   "outputs": [
    {
     "name": "stdout",
     "output_type": "stream",
     "text": [
      "21\n"
     ]
    }
   ],
   "source": [
    "resultado = algoritmo_euclidiano(1071, 462, False)\n",
    "print(resultado)"
   ]
  },
  {
   "cell_type": "markdown",
   "metadata": {},
   "source": [
    "Anteriormente utilizamos uma solução recursiva, também podemos optar por uma solução iterativa:"
   ]
  },
  {
   "cell_type": "code",
   "execution_count": 34,
   "metadata": {},
   "outputs": [],
   "source": [
    "def mdc(a, b):\n",
    "    for c in range(min(a, b), 0, -1):\n",
    "        if a % c == b % c == 0:\n",
    "            return c"
   ]
  },
  {
   "cell_type": "markdown",
   "metadata": {},
   "source": [
    "A seguir, podemos testá-la:"
   ]
  },
  {
   "cell_type": "code",
   "execution_count": 35,
   "metadata": {},
   "outputs": [
    {
     "name": "stdout",
     "output_type": "stream",
     "text": [
      "Máximo divisor comum entre 1071 e 462 = 21\n"
     ]
    }
   ],
   "source": [
    "print(f'Máximo divisor comum entre 1071 e 462 = {mdc(1071, 462)}')"
   ]
  },
  {
   "cell_type": "code",
   "execution_count": 36,
   "metadata": {},
   "outputs": [
    {
     "name": "stdout",
     "output_type": "stream",
     "text": [
      "Máximo divisor comum entre 98 e 56 = 14\n"
     ]
    }
   ],
   "source": [
    "print(f'Máximo divisor comum entre 98 e 56 = {mdc(98, 56)}')"
   ]
  },
  {
   "cell_type": "markdown",
   "metadata": {},
   "source": [
    "Além disso, a biblioteca [math](https://docs.python.org/3/library/math.html) nos oferece uma função **gcd** pronta:"
   ]
  },
  {
   "cell_type": "code",
   "execution_count": 37,
   "metadata": {},
   "outputs": [
    {
     "name": "stdout",
     "output_type": "stream",
     "text": [
      "Máximo divisor comum entre 20 e 28 = 4\n"
     ]
    }
   ],
   "source": [
    "from math import gcd\n",
    "\n",
    "print(f'Máximo divisor comum entre 20 e 28 = {gcd(20, 28)}')"
   ]
  }
 ],
 "metadata": {
  "kernelspec": {
   "display_name": "Python 3",
   "language": "python",
   "name": "python3"
  },
  "language_info": {
   "codemirror_mode": {
    "name": "ipython",
    "version": 3
   },
   "file_extension": ".py",
   "mimetype": "text/x-python",
   "name": "python",
   "nbconvert_exporter": "python",
   "pygments_lexer": "ipython3",
   "version": "3.7.10"
  }
 },
 "nbformat": 4,
 "nbformat_minor": 4
}
