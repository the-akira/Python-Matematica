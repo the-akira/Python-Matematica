{
 "cells": [
  {
   "cell_type": "markdown",
   "metadata": {},
   "source": [
    "# Análise de Algoritmos\n",
    "\n",
    "Um algoritmo é um procedimento ou fórmula para resolver um problema, alguns são tão importantes que recebem nomes especiais, como: **merge sort**, **bubble sort**, **binary search**. A grande questão é: como podemos comparar algoritmos para sabermos quais são melhores e mais eficientes?\n",
    "\n",
    "## Algoritmos Básicos\n",
    "\n",
    "A seguir veremos alguns exemplos de algoritmos e ao longo do notebook vamos buscar compreender o que significa um algoritmo eficaz."
   ]
  },
  {
   "cell_type": "markdown",
   "metadata": {},
   "source": [
    "A seguir, vamos definir uma função chamada de **soma**, que recebe um número **n** como input e retorna a soma dos números **0** até **n**:"
   ]
  },
  {
   "cell_type": "code",
   "execution_count": 1,
   "metadata": {},
   "outputs": [],
   "source": [
    "def soma_um(n):\n",
    "    soma_final = 0\n",
    "    for x in range(n+1):\n",
    "        soma_final += x\n",
    "    return soma_final"
   ]
  },
  {
   "cell_type": "code",
   "execution_count": 2,
   "metadata": {},
   "outputs": [
    {
     "name": "stdout",
     "output_type": "stream",
     "text": [
      "55\n",
      "120\n"
     ]
    }
   ],
   "source": [
    "print(soma_um(10))\n",
    "print(soma_um(15))"
   ]
  },
  {
   "cell_type": "markdown",
   "metadata": {},
   "source": [
    "A solução anterior usa um **for loop** para obter a soma dos números, outra opção que temos é usar uma fórmula para resolver este problema:\n",
    "\n",
    "$\\sum = \\dfrac{n \\times (n + 1)}{2}$\n",
    "\n",
    "Da mesma forma, a função recebe um número **n** como input e retorna a soma dos números **0** até **n**:"
   ]
  },
  {
   "cell_type": "code",
   "execution_count": 5,
   "metadata": {},
   "outputs": [],
   "source": [
    "def soma_dois(n):\n",
    "    return int((n*(n+1))/2)"
   ]
  },
  {
   "cell_type": "code",
   "execution_count": 6,
   "metadata": {},
   "outputs": [
    {
     "name": "stdout",
     "output_type": "stream",
     "text": [
      "55\n",
      "120\n"
     ]
    }
   ],
   "source": [
    "print(soma_dois(10))\n",
    "print(soma_dois(15))"
   ]
  },
  {
   "cell_type": "markdown",
   "metadata": {},
   "source": [
    "Observe que:\n",
    "\n",
    "- A função **soma_um** utiliza um **for loop** para adicionar iterativamente.\n",
    "\n",
    "- A função **soma_dois** faz uso de uma fórmula para resolver o problema.\n",
    "\n",
    "## Comparando-os Objetivamente\n",
    "\n",
    "Para compararmos os algoritmos de forma objetiva, é importante levarmos em conta, principalmente:\n",
    "\n",
    "- Espaço de memória\n",
    "- Tempo para executar\n",
    "\n",
    "Para medir o desempenho, vamos utilizar o comando mágico constrúido do Jupyter-Notebook:"
   ]
  },
  {
   "cell_type": "code",
   "execution_count": 7,
   "metadata": {},
   "outputs": [
    {
     "name": "stdout",
     "output_type": "stream",
     "text": [
      "4.49 µs ± 34 ns per loop (mean ± std. dev. of 7 runs, 100000 loops each)\n"
     ]
    }
   ],
   "source": [
    "%timeit soma_um(100) # Resultado em microsegundos"
   ]
  },
  {
   "cell_type": "code",
   "execution_count": 8,
   "metadata": {},
   "outputs": [
    {
     "name": "stdout",
     "output_type": "stream",
     "text": [
      "303 ns ± 13.9 ns per loop (mean ± std. dev. of 7 runs, 1000000 loops each)\n"
     ]
    }
   ],
   "source": [
    "%timeit soma_dois(100) # Resultado em nanosegundos"
   ]
  },
  {
   "cell_type": "markdown",
   "metadata": {},
   "source": [
    "Lembrando que:\n",
    "\n",
    "**MICRO** = $10^{-6}$\n",
    "\n",
    "**NANO** = $10^{-9}$\n",
    "\n",
    "Quanto menor o número, melhor o desempenho do nosso algoritmo!\n",
    "\n",
    "#### Importante\n",
    "\n",
    "- Não podemos simplesmente depender em tempo de execução porque a maioria dos computadores são diferentes e alguns são mais rápidos do que outros.\n",
    "- Para que nossa avaliação seja independente do Hardware, precisamos de **Big O**."
   ]
  },
  {
   "cell_type": "markdown",
   "metadata": {},
   "source": [
    "## Big O\n",
    "\n",
    "Com **[Big O](https://en.wikipedia.org/wiki/Big_O_notation)** nós podemos objetivamente comparar a eficiência de algoritmos ao compararmos o número de atribuições que cada algoritmo faz.\n",
    "\n",
    "A função **soma_um** irá criar uma atribuição `n + 1` vezes, podemos fazer essa observação baseado na função **range**. Isso significa que ela irá atribuir a variável **soma_final** `n + 1` vezes. Nós podemos então dizer que para um problema de tamanho **n** (nesse caso apenas um número **n**) essa função tomará `n + 1` passos.\n",
    "\n",
    "Essa notação **n** nos permite comparar soluções e algoritmos relativos ao tamanho do problema, uma vez que `soma_um(10)` e `soma_um(100000)` podem tomar diferentes tempos para executar, ainda que utilizando o mesmo algoritmo. Nós também podemos perceber que ao **n** crescer para um número muito grande, o `+1` não terá muito efeito. Sendo assim, vamos começar discutindo como construir uma sintaxe para essa notação.\n",
    "\n",
    "Notação **Big O** descreve quão rápido o tempo de execução irá aumentar relativo ao **input** ao ele crescer arbitrariamente grande.\n",
    "\n",
    "### Quão Bem o Algoritmo Escala ao Crescerem os Dados?\n",
    "\n",
    "Lembrando, nós desejamos comparar quão rápido o tempo de execução irá crescer, não comparar tempo de execução exatos, uma vez que estes podem variar de acordo com o hardware.\n",
    "\n",
    "Uma vez que nós queremos comparar para um variedade de tamanhos de **input**, nós estamos apenas preocupados com o crescimento do tempo de execução relativo ao **input**, é por isso que utilizamos essa notação.\n",
    "\n",
    "Ao **n** se tornar arbitrariamente grande, nós apenas nos preocupamos com os termos que irão crescer mais rápido ao **n** se tornar maior, nesse ponto, Análise Big O também é conhecido como análise assintótica.\n",
    "\n",
    "Em Matemática, análise assintótica = **descrever o comportamento limite** de uma função.\n",
    "\n",
    "Em relação ao algoritmo, queremos essencialmente saber: Qual parte do algoritmo tem o MAIOR efeito na resposta final, qual parte do algoritmo é o real gargalo, qual parte é o fator limite. Para o algoritmo **soma_um()** pode ser dito como **O(n)** uma vez que seu tempo de execução cresce linearmente com o tamanho de **input**.\n",
    "\n",
    "A seguir, vamos definir uma simples função chamada de **BigO**:"
   ]
  },
  {
   "cell_type": "code",
   "execution_count": 9,
   "metadata": {},
   "outputs": [
    {
     "data": {
      "text/plain": [
       "84"
      ]
     },
     "execution_count": 9,
     "metadata": {},
     "output_type": "execute_result"
    }
   ],
   "source": [
    "def BigO(n):\n",
    "    return 45*n**3 + 20*n**2 + 19\n",
    "\n",
    "BigO(1)"
   ]
  },
  {
   "cell_type": "markdown",
   "metadata": {},
   "source": [
    "Considere que **19** não irá escalar ou será um fator limite para o algoritmo:"
   ]
  },
  {
   "cell_type": "code",
   "execution_count": 14,
   "metadata": {},
   "outputs": [
    {
     "data": {
      "text/plain": [
       "24339"
      ]
     },
     "execution_count": 14,
     "metadata": {},
     "output_type": "execute_result"
    }
   ],
   "source": [
    "BigO(8)"
   ]
  },
  {
   "cell_type": "markdown",
   "metadata": {},
   "source": [
    "Em outras palavras, **19** tem um pequeno impacto no desempenho do algoritmo:"
   ]
  },
  {
   "cell_type": "code",
   "execution_count": 15,
   "metadata": {},
   "outputs": [
    {
     "data": {
      "text/plain": [
       "47019"
      ]
     },
     "execution_count": 15,
     "metadata": {},
     "output_type": "execute_result"
    }
   ],
   "source": [
    "BigO(10)"
   ]
  },
  {
   "cell_type": "markdown",
   "metadata": {},
   "source": [
    "Podemos concluir que:\n",
    "\n",
    "- $19$ não possui um peso relevante.\n",
    "- $20n^2$ nesse caso é **2000**.\n",
    "- $45n^3$ nesse caso é **45000**.\n",
    "\n",
    "A parte desse algoritmo que realmente está ligado com a resposta final ao escalarem os dados não será 45, mas sim $n^3$. \n",
    "\n",
    "Então podemos dizer que ele é de ordem $n^3$.\n",
    "\n",
    "### Gráfico Big O\n",
    "\n",
    "A seguir temos um gráfico que representa a curva de diferentes ordens:\n",
    "\n",
    "![img](https://raw.githubusercontent.com/the-akira/Python-Matematica/master/imagens/bigo.png)\n",
    "\n",
    "As tabelas a seguir nos apresentam as ordens mais comuns que podemos encontrar:\n",
    "\n",
    "| Big-O         | Nome        |\n",
    "| ------------- | ------      |\n",
    "| 1             | Constante   |\n",
    "| log(n)        | Logarítmico |\n",
    "| n             | Linear      |\n",
    "| n log(n)      | Log Linear  |\n",
    "| n^2           | Quadrático  |\n",
    "| n^3           | Cúbico      |\n",
    "| 2^n           | Exponencial |\n",
    "\n",
    "| Notação       | Nome        |\n",
    "| ------------- | ------      |\n",
    "| O(1)             | Constante   |\n",
    "| O(log log n)        | Logarítmico dobrado |\n",
    "| O(log n)             | Logarítmico      |\n",
    "| O(n^c), 0 < c < 1      | potência fatorial  |\n",
    "| O(n)           | Linear  |\n",
    "| O(n log * n)           | n log-star n      |\n",
    "| O(n log n) = O(log n!)           | Linearítmico, Log Linear |\n",
    "| O(n^2)           | Quadrático |\n",
    "| O(n^c), c > 1           | Polinomial |\n",
    "| O(c^n), c > 1           | Exponencial |\n",
    "| O(n!)           | Fatorial |"
   ]
  },
  {
   "cell_type": "markdown",
   "metadata": {},
   "source": [
    "Vamos agora plotar um gráfico com diferentes ordens de crescimento utilizando a biblioteca **matplotlib**:"
   ]
  },
  {
   "cell_type": "code",
   "execution_count": 5,
   "metadata": {},
   "outputs": [
    {
     "data": {
      "image/png": "[encoded data removed]",
      "text/plain": [
       "<Figure size 864x720 with 1 Axes>"
      ]
     },
     "metadata": {
      "needs_background": "light"
     },
     "output_type": "display_data"
    }
   ],
   "source": [
    "import matplotlib.pyplot as plt\n",
    "from math import log\n",
    "import numpy as np\n",
    "\n",
    "n = np.linspace(1,10)\n",
    "labels = ['Constante', 'Logarítmico', 'Linear', 'Log Linear', 'Quadrático', 'Cúbico', 'Exponencial']\n",
    "big_o = [np.ones(n.shape), np.log(n), n, n*np.log(n), n**2, n**3, 2**n]\n",
    "\n",
    "plt.figure(figsize=(12,10))\n",
    "plt.ylim(0,50)\n",
    "\n",
    "for i in range(len(big_o)):\n",
    "    plt.plot(n, big_o[i], label=labels[i], lw=2.5)\n",
    "\n",
    "plt.legend(loc=0)\n",
    "plt.ylabel('Tempo de execução relativo')\n",
    "plt.xlabel('n')\n",
    "plt.grid(linestyle='-.')\n",
    "plt.show()"
   ]
  },
  {
   "cell_type": "markdown",
   "metadata": {},
   "source": [
    "Claramente nosso objetivo é escolher um algoritmo que esteja distante de qualquer comportamento quadrático, cúbico e exponencial."
   ]
  },
  {
   "cell_type": "markdown",
   "metadata": {},
   "source": [
    "### Exemplos Big O\n",
    "\n",
    "#### O(1) - Constante\n",
    "\n",
    "Vamos definir uma função de comportamento constante, que imprime o primeiro elemento de uma lista de valores:"
   ]
  },
  {
   "cell_type": "code",
   "execution_count": 23,
   "metadata": {},
   "outputs": [
    {
     "name": "stdout",
     "output_type": "stream",
     "text": [
      "1\n"
     ]
    }
   ],
   "source": [
    "def constante(valores):\n",
    "    print(valores[0])\n",
    "\n",
    "constante([1,2,3,4,5,6])"
   ]
  },
  {
   "cell_type": "markdown",
   "metadata": {},
   "source": [
    "Não importa quão grande a lista se torne, a função/algoritmo irá apenas pegar o valor indexado na posição **0** da lista, por este motivo ela é constante.\n",
    "\n",
    "#### O(n) - Linear\n",
    "\n",
    "Vamos definir uma função linear, que recebe uma lista e imprime todos os valores:"
   ]
  },
  {
   "cell_type": "code",
   "execution_count": 28,
   "metadata": {},
   "outputs": [],
   "source": [
    "def linear(lista):\n",
    "    for valores in lista:\n",
    "        print(valores, end=' ')"
   ]
  },
  {
   "cell_type": "markdown",
   "metadata": {},
   "source": [
    "Neste caso, o crescimento da lista tem um impacto no desempenho:"
   ]
  },
  {
   "cell_type": "code",
   "execution_count": 29,
   "metadata": {},
   "outputs": [
    {
     "name": "stdout",
     "output_type": "stream",
     "text": [
      "1 2 3 4 5 "
     ]
    }
   ],
   "source": [
    "linear([1,2,3,4,5]) "
   ]
  },
  {
   "cell_type": "markdown",
   "metadata": {},
   "source": [
    "Cada valor da lista será impresso ao passar pelo **for loop**, então ao crescer a lista, cresce o Big O, então podemos dizer que esse algoritmo irá escalar linearmente com **n**.\n",
    "\n",
    "#### O(n^2) - Quadrático\n",
    "\n",
    "A seguir, iremos definir uma função que imprime pares para cada elemento na lista:"
   ]
  },
  {
   "cell_type": "code",
   "execution_count": 30,
   "metadata": {},
   "outputs": [
    {
     "name": "stdout",
     "output_type": "stream",
     "text": [
      "1 1\n",
      "1 2\n",
      "1 3\n",
      "2 1\n",
      "2 2\n",
      "2 3\n",
      "3 1\n",
      "3 2\n",
      "3 3\n"
     ]
    }
   ],
   "source": [
    "def quadratica(lista):\n",
    "    for item_1 in lista:\n",
    "        for item_2 in lista:\n",
    "            print(item_1,item_2)\n",
    "            \n",
    "lista = [1,2,3]\n",
    "quadratica(lista)"
   ]
  },
  {
   "cell_type": "markdown",
   "metadata": {},
   "source": [
    "Observe que:\n",
    "\n",
    "- Temos dois **for loops** aninhados.\n",
    "- Para uma lista de **n** itens, nós teremos de executar **n** operações para cada item na lista! Isso significa em total que iremos executar **n** vezes **n** atribuições, ou $n^2$. Então uma lista com $10$ itens terá $10^2$ ou $100$ operações. Você pode perceber quão perigoso isso pode se tornar para inputs muito grandes! É por isso que a **Notação Big O** é tão importante para entendermos.\n",
    "- Então, baseado no exemplo: o **input** de $3$ nos dá $3^2 = 9$ iterações de **output**.\n",
    "\n",
    "### Calculando a Escala de Big O\n",
    "\n",
    "Termos insignificantes são desconsiderados na notação Big O.\n",
    "\n",
    "Quando se trata de Notação Big O nós apenas nos preocupamos com os termos mais significantes, lembre que ao crescer o **input** e ele se tornar maior, apenas os termos que crescem com maior rapidez terão importância/relevância.\n",
    "\n",
    "Por exemplo, podemos tomar o limite a respeito da infinidade.\n",
    "\n",
    "Vamos definir uma função que imprime todos os valores de uma lista:"
   ]
  },
  {
   "cell_type": "code",
   "execution_count": 32,
   "metadata": {},
   "outputs": [
    {
     "name": "stdout",
     "output_type": "stream",
     "text": [
      "1\n",
      "2\n",
      "3\n",
      "4\n",
      "5\n"
     ]
    }
   ],
   "source": [
    "def imprima_uma_vez(lista):\n",
    "    for valores in lista:\n",
    "        print(valores)\n",
    "\n",
    "imprima_uma_vez([1,2,3,4,5])"
   ]
  },
  {
   "cell_type": "markdown",
   "metadata": {},
   "source": [
    "Como vimos anteriormene, é possível perceber como esse crescimento é linear em relação ao input: O(n).\n",
    "\n",
    "Agora vamos definir uma função similar, só que dessa vez ela imprimir todos os itens três vezes:"
   ]
  },
  {
   "cell_type": "code",
   "execution_count": 33,
   "metadata": {},
   "outputs": [
    {
     "name": "stdout",
     "output_type": "stream",
     "text": [
      "1\n",
      "2\n",
      "3\n",
      "4\n",
      "5\n",
      "1\n",
      "2\n",
      "3\n",
      "4\n",
      "5\n",
      "1\n",
      "2\n",
      "3\n",
      "4\n",
      "5\n"
     ]
    }
   ],
   "source": [
    "def imprima_tres_vezes(lista):\n",
    "    for valores in lista:\n",
    "        print(valores)\n",
    "    \n",
    "    for valores in lista:\n",
    "        print(valores)\n",
    "        \n",
    "    for valores in lista:\n",
    "        print(valores)\n",
    "\n",
    "imprima_tres_vezes([1,2,3,4,5])"
   ]
  },
  {
   "cell_type": "markdown",
   "metadata": {},
   "source": [
    "Este algoritmo irá executar $3$ vezes para cada **n**, sendo assim ele se torna de ordem 3(n). \n",
    "\n",
    "Continuando assim, linear. Mais importante, 3($\\infty$) não é realmente diferente de ($\\infty$), sendo assim podemos abandonar as constantes insignificantes.\n",
    "\n",
    "Podemos então dizer que este algoritmo é apenas O(n)."
   ]
  },
  {
   "cell_type": "markdown",
   "metadata": {},
   "source": [
    "A seguir vamos definir uma função que realiza algumas computações:\n",
    "\n",
    "1. Imprime o primeiro item O(1), sendo assim ela é constante.\n",
    "2. Depois ela calcula o $\\dfrac{1}{2}$ da lista e imprime todos os valores até ele (excluindo ele): O(n/2).\n",
    "3. Depois ela imprime uma string 10 vezes O(10), sendo assim constante."
   ]
  },
  {
   "cell_type": "code",
   "execution_count": 34,
   "metadata": {},
   "outputs": [],
   "source": [
    "def computação(lista):\n",
    "    print(lista[0])\n",
    "    \n",
    "    ponto_médio = len(lista)//2\n",
    "    \n",
    "    for valores in lista[:ponto_médio]:\n",
    "        print(valores)\n",
    "    \n",
    "    for x in range(10):\n",
    "        print('Número!')"
   ]
  },
  {
   "cell_type": "code",
   "execution_count": 35,
   "metadata": {},
   "outputs": [
    {
     "name": "stdout",
     "output_type": "stream",
     "text": [
      "1\n",
      "1\n",
      "2\n",
      "3\n",
      "4\n",
      "5\n",
      "6\n",
      "7\n",
      "Número!\n",
      "Número!\n",
      "Número!\n",
      "Número!\n",
      "Número!\n",
      "Número!\n",
      "Número!\n",
      "Número!\n",
      "Número!\n",
      "Número!\n"
     ]
    }
   ],
   "source": [
    "lista = [1,2,3,4,5,6,7,8,9,10,11,12,13,14,15]\n",
    "computação(lista)"
   ]
  },
  {
   "cell_type": "markdown",
   "metadata": {},
   "source": [
    "#### O(1 + n/2 + 10)\n",
    "\n",
    "Ao **n** se tornar maior e maior (escalar) nós podemos facilmente percerber como o 1 e o 10 começam a se tornar irrelevantes e posteriormente a divisão também começará a não ter efeito.\n",
    "\n",
    "Podemos então concluir que esse algoritmo é de ordem O(n)."
   ]
  },
  {
   "cell_type": "markdown",
   "metadata": {},
   "source": [
    "### Pior Caso vs Melhor Caso\n",
    "\n",
    "Muitas vezes nós estamos apenas preocupados com o pior possível caso de um algoritmo. \n",
    "\n",
    "É importante termos em mente que os cenários de pior caso e o melhor caso podem ser completamente diferentes em questão de tempo Big O.\n",
    "\n",
    "A seguir temos um simples algoritmo em que: dada uma lista chamada lista, retorna um booelano indicando se determinado item está presente na lista."
   ]
  },
  {
   "cell_type": "code",
   "execution_count": 37,
   "metadata": {},
   "outputs": [],
   "source": [
    "def matcher(lista,match):   \n",
    "    for item in lista:\n",
    "        if item == match:\n",
    "            return True\n",
    "    return False"
   ]
  },
  {
   "cell_type": "code",
   "execution_count": 36,
   "metadata": {},
   "outputs": [
    {
     "name": "stdout",
     "output_type": "stream",
     "text": [
      "[1, 2, 3, 4, 5, 6, 7, 8, 9, 10, 11, 12, 13, 14, 15]\n"
     ]
    }
   ],
   "source": [
    "lista = [1, 2, 3, 4, 5, 6, 7, 8, 9, 10, 11, 12, 13, 14, 15]\n",
    "print(lista)"
   ]
  },
  {
   "cell_type": "markdown",
   "metadata": {},
   "source": [
    "A seguir temos o melhor caso, pois o item buscado está no índice **0**. \n",
    "\n",
    "O(1) o melhor caso se torna constante:"
   ]
  },
  {
   "cell_type": "code",
   "execution_count": 38,
   "metadata": {},
   "outputs": [
    {
     "data": {
      "text/plain": [
       "True"
      ]
     },
     "execution_count": 38,
     "metadata": {},
     "output_type": "execute_result"
    }
   ],
   "source": [
    "matcher(lista,1)"
   ]
  },
  {
   "cell_type": "markdown",
   "metadata": {},
   "source": [
    "Esse é o pior caso, a lista inteira deve ser vasculhada, **n** elementos. \n",
    "\n",
    "O(n) o pior caso se torna linear:"
   ]
  },
  {
   "cell_type": "code",
   "execution_count": 39,
   "metadata": {},
   "outputs": [
    {
     "data": {
      "text/plain": [
       "True"
      ]
     },
     "execution_count": 39,
     "metadata": {},
     "output_type": "execute_result"
    }
   ],
   "source": [
    "matcher(lista,15)"
   ]
  },
  {
   "cell_type": "markdown",
   "metadata": {},
   "source": [
    "### Complexidade do Espaço\n",
    "\n",
    "Também nos interessa a quantidade de memória/espaço que um algoritmo utiliza. \n",
    "\n",
    "A notação de complexidade de espaço é a mesma, mas ao invés de checar operações de tempo, nós checamos o tamanho de alocação de memória.\n",
    "\n",
    "Por exemplo, considera a função a seguir que imprime \"Hello World!\" **n** vezes:"
   ]
  },
  {
   "cell_type": "code",
   "execution_count": 40,
   "metadata": {},
   "outputs": [
    {
     "name": "stdout",
     "output_type": "stream",
     "text": [
      "Hello World!\n",
      "Hello World!\n",
      "Hello World!\n",
      "Hello World!\n",
      "Hello World!\n",
      "Hello World!\n",
      "Hello World!\n",
      "Hello World!\n",
      "Hello World!\n",
      "Hello World!\n"
     ]
    }
   ],
   "source": [
    "def memória(n=10):\n",
    "    for x in range(n): # Complexidade de tempo O(n)\n",
    "        print(\"Hello World!\") # Complexidade de espaço O(1)\n",
    "\n",
    "memória(10)"
   ]
  },
  {
   "cell_type": "markdown",
   "metadata": {},
   "source": [
    "O(n) para a complexidade de tempo, mas e a respeito da complexidade de espaço?\n",
    "\n",
    "Em memória não há necessidade de guardar 10 versões de \"Hello World!\", ele apenas precisa guardar uma string, portanto temos: O(1)."
   ]
  },
  {
   "cell_type": "markdown",
   "metadata": {},
   "source": [
    "### Sequências \n",
    "\n",
    "Algumas das sequências mais comuns que temos em Python são as seguintes:\n",
    "\n",
    "- **Lista** = `[]`\n",
    "\n",
    "- **Tupla** = `()`\n",
    "\n",
    "- **String** = `\"\"` \n",
    "\n",
    "Todas elas suportam indexação."
   ]
  },
  {
   "cell_type": "markdown",
   "metadata": {},
   "source": [
    "Para entendermos melhor como os arrays funcionam é importante entendermos a arquitetura de computadores em baixo nível:\n",
    "\n",
    "- Memória é armazenada em **bits**\n",
    "- 8 bits = 1 byte\n",
    "- Há um endereço de memória para cada **byte**\n",
    "\n",
    "![img](https://raw.githubusercontent.com/the-akira/Python-Matematica/master/imagens/listas.png)\n",
    "\n",
    "Ele é guardado e recuperado em O(1) tempo constante.\n",
    "\n",
    "Python representa caracteres Unicode com 8 bits (1 byte).\n",
    "\n",
    "![img](https://raw.githubusercontent.com/the-akira/Python-Matematica/master/imagens/caracteres.png)\n",
    "\n",
    "Nesse caso, **PYTHON** possui 6 caracteres, ou seja, 6 bytes, uma vez que temos:\n",
    "\n",
    "- Um array de 6 caracteres\n",
    "- Cada caracter ocupa uma célula\n",
    "- Índice descreve localização\n",
    "\n",
    "Apenas para ilustrar o conhecimento, pois normalmente iremos utilizar abstrações de alto nível.\n",
    "\n",
    "A seguir podemos confirmar que a string \"PYTHON\" ocupa de fato 6 bytes:"
   ]
  },
  {
   "cell_type": "code",
   "execution_count": 41,
   "metadata": {},
   "outputs": [
    {
     "data": {
      "text/plain": [
       "6"
      ]
     },
     "execution_count": 41,
     "metadata": {},
     "output_type": "execute_result"
    }
   ],
   "source": [
    "len(\"PYTHON\".encode(\"utf8\"))"
   ]
  },
  {
   "cell_type": "markdown",
   "metadata": {},
   "source": [
    "Isso porque ela usa caracteres ASCII, se formos considerar caracteres Chineses, cada um irá ocupar 3 bytes:"
   ]
  },
  {
   "cell_type": "code",
   "execution_count": 6,
   "metadata": {},
   "outputs": [
    {
     "data": {
      "text/plain": [
       "6"
      ]
     },
     "execution_count": 6,
     "metadata": {},
     "output_type": "execute_result"
    }
   ],
   "source": [
    "len(\"陰陽\".encode(\"utf8\"))"
   ]
  },
  {
   "cell_type": "markdown",
   "metadata": {},
   "source": [
    "### Listas e Referências\n",
    "\n",
    "Considere que foi criada uma lista chamada de **primos**, guardando números primos.\n",
    "\n",
    "Se for criado um novo objeto **temp**, e sendo ele uma referência a uma porção da lista **primos**, então foi criado uma nova lista, porém referenciando uma localização de índice de saída.\n",
    "\n",
    "![img](https://raw.githubusercontent.com/the-akira/Python-Matematica/master/imagens/referencias.png)\n",
    "\n",
    "Se desejarmos alterar uma atribuição indexada na nova lista **temp**:\n",
    "\n",
    "`temp[2] = 15`\n",
    "\n",
    "A lista original não é alterada, a nova posição indexada apenas aponta para um novo e diferente objeto.\n",
    "\n",
    "Importante lembrar: novas listas criam uma cópia superficial, significa que você está apenas alterando/criando seus ponteiros e não duplicando objetos em memória.\n",
    "\n",
    "Muito do que estamos fazendo é manipular referências e chamadas, não os objetos em si.\n",
    "\n",
    "A seguir podemos calcular quanto de memória que uma lista ocupa:"
   ]
  },
  {
   "cell_type": "code",
   "execution_count": 52,
   "metadata": {},
   "outputs": [
    {
     "name": "stdout",
     "output_type": "stream",
     "text": [
      "Comprimento:  0 | Tamanho em Bytes:  72\n",
      "Comprimento:  1 | Tamanho em Bytes: 104\n",
      "Comprimento:  2 | Tamanho em Bytes: 104\n",
      "Comprimento:  3 | Tamanho em Bytes: 104\n",
      "Comprimento:  4 | Tamanho em Bytes: 104\n",
      "Comprimento:  5 | Tamanho em Bytes: 136\n",
      "Comprimento:  6 | Tamanho em Bytes: 136\n",
      "Comprimento:  7 | Tamanho em Bytes: 136\n",
      "Comprimento:  8 | Tamanho em Bytes: 136\n",
      "Comprimento:  9 | Tamanho em Bytes: 200\n"
     ]
    }
   ],
   "source": [
    "import sys\n",
    "\n",
    "n = 10\n",
    "dados = []\n",
    "\n",
    "for i in range(n):\n",
    "    a = len(dados)\n",
    "    b = sys.getsizeof(dados)\n",
    "    print('Comprimento: {0:2d} | Tamanho em Bytes: {1:3d}'.format(a,b))\n",
    "    dados.append(n)"
   ]
  },
  {
   "cell_type": "markdown",
   "metadata": {},
   "source": [
    "### Arrays Dinâmicos\n",
    "\n",
    "A seguir, veremos um problema relacionado a arrays dinâmicos.\n",
    "\n",
    "#### Problema\n",
    "\n",
    "Dadas duas strings, cheque-as para ver se elas são anagramas. Um anagrama é quando as duas strings podem ser reescritas usando exatamente as mesmas letras (sendo assim você pode apenas reorganizar as letras para obter uma frase ou palavra diferente).\n",
    "\n",
    "Por exemplo:\n",
    "\n",
    "\"Pedro\" é um anagrama de \"Poder\".\n",
    "\n",
    "\"Client Eastwood\" é um anagrama de \"old west action\".\n",
    "\n",
    "**Observação**: Ignore espaços e capitalização. Sendo assim, \"d go\" é um anagrama de \"God\" e \"dog\" um anagrama de \"o d g\"."
   ]
  },
  {
   "cell_type": "code",
   "execution_count": 53,
   "metadata": {},
   "outputs": [],
   "source": [
    "def anagrama(str1, str2):\n",
    "    # Remove espaços e letras lower case\n",
    "    str1 = str1.replace(' ','').lower()\n",
    "    str2 = str2.replace(' ','').lower()  \n",
    "    # Retorna um booleano para a correspondência ordenada\n",
    "    return sorted(str1) == sorted(str2)"
   ]
  },
  {
   "cell_type": "markdown",
   "metadata": {},
   "source": [
    "Como a função definida, podemos testá-la:"
   ]
  },
  {
   "cell_type": "code",
   "execution_count": 54,
   "metadata": {},
   "outputs": [
    {
     "data": {
      "text/plain": [
       "True"
      ]
     },
     "execution_count": 54,
     "metadata": {},
     "output_type": "execute_result"
    }
   ],
   "source": [
    "anagrama('pedro','poder')"
   ]
  },
  {
   "cell_type": "code",
   "execution_count": 55,
   "metadata": {},
   "outputs": [
    {
     "data": {
      "text/plain": [
       "False"
      ]
     },
     "execution_count": 55,
     "metadata": {},
     "output_type": "execute_result"
    }
   ],
   "source": [
    "anagrama('teste','peste')"
   ]
  },
  {
   "cell_type": "code",
   "execution_count": 56,
   "metadata": {},
   "outputs": [
    {
     "data": {
      "text/plain": [
       "True"
      ]
     },
     "execution_count": 56,
     "metadata": {},
     "output_type": "execute_result"
    }
   ],
   "source": [
    "anagrama('gol','log')"
   ]
  },
  {
   "cell_type": "markdown",
   "metadata": {},
   "source": [
    "Esta solução não é otimizada, vamos tentar melhorar ela, dessa vez com contadores e dicionários:"
   ]
  },
  {
   "cell_type": "code",
   "execution_count": 57,
   "metadata": {},
   "outputs": [],
   "source": [
    "def anagrama_dois(str1, str2):\n",
    "    str1 = str1.replace(' ','').lower()\n",
    "    str2 = str2.replace(' ','').lower()\n",
    "    \n",
    "    # Checa se há o mesmo número de letras\n",
    "    if len(str1) != len(str2):\n",
    "        return False\n",
    "    \n",
    "    # Conta a frequência de cada letra\n",
    "    contador = {}\n",
    "    \n",
    "    # Para cada letra na primeira string\n",
    "    for letra in str1: \n",
    "        if letra in contador: # Se a letra já está em nosso dicionário, então\n",
    "            contador[letra] += 1 # Adiciona 1 para a chave letra do dicionário\n",
    "        else:\n",
    "            contador[letra] = 1\n",
    "    \n",
    "    # Faz o inverso para a segunda string\n",
    "    for letra in str2:\n",
    "        if letra in contador:\n",
    "            contador[letra] -= 1\n",
    "        else:\n",
    "            contador[letra] = 1\n",
    "    \n",
    "    # Percorremos o contador\n",
    "    for k in contador: \n",
    "        if contador[k] != 0: # Caso o contador nos retorne um valor diferente de 0, indica que não obtivemos um anagrama\n",
    "            return False\n",
    "    \n",
    "    return True"
   ]
  },
  {
   "cell_type": "markdown",
   "metadata": {},
   "source": [
    "Vamos agora testá-la:"
   ]
  },
  {
   "cell_type": "code",
   "execution_count": 58,
   "metadata": {},
   "outputs": [
    {
     "data": {
      "text/plain": [
       "True"
      ]
     },
     "execution_count": 58,
     "metadata": {},
     "output_type": "execute_result"
    }
   ],
   "source": [
    "anagrama_dois('Clint Eastwood', 'old WEST action')"
   ]
  },
  {
   "cell_type": "code",
   "execution_count": 60,
   "metadata": {},
   "outputs": [
    {
     "data": {
      "text/plain": [
       "True"
      ]
     },
     "execution_count": 60,
     "metadata": {},
     "output_type": "execute_result"
    }
   ],
   "source": [
    "anagrama_dois('William Shakespeare', 'I am a weakish speller')"
   ]
  },
  {
   "cell_type": "code",
   "execution_count": 61,
   "metadata": {},
   "outputs": [
    {
     "data": {
      "text/plain": [
       "True"
      ]
     },
     "execution_count": 61,
     "metadata": {},
     "output_type": "execute_result"
    }
   ],
   "source": [
    "anagrama_dois('Tokyo', 'Kyoto')"
   ]
  },
  {
   "cell_type": "code",
   "execution_count": 62,
   "metadata": {},
   "outputs": [
    {
     "data": {
      "text/plain": [
       "False"
      ]
     },
     "execution_count": 62,
     "metadata": {},
     "output_type": "execute_result"
    }
   ],
   "source": [
    "anagrama_dois('Matemática', 'Computação')"
   ]
  }
 ],
 "metadata": {
  "kernelspec": {
   "display_name": "Python 3",
   "language": "python",
   "name": "python3"
  },
  "language_info": {
   "codemirror_mode": {
    "name": "ipython",
    "version": 3
   },
   "file_extension": ".py",
   "mimetype": "text/x-python",
   "name": "python",
   "nbconvert_exporter": "python",
   "pygments_lexer": "ipython3",
   "version": "3.7.10"
  }
 },
 "nbformat": 4,
 "nbformat_minor": 4
}
