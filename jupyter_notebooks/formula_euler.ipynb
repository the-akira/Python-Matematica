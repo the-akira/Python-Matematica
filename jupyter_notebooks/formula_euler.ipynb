{
 "cells": [
  {
   "cell_type": "markdown",
   "metadata": {},
   "source": [
    "# Equação de Euler\n",
    "\n",
    "Euler introduziu o uso da função exponencial e logaritmos em provas analíticas. Ele descobriu maneiras de expressar várias funções logarítmicas usando séries de potências e definiu logaritmos com sucesso para números negativos e complexos, expandindo muito o escopo das aplicações matemáticas dos logaritmos. Ele também definiu a função exponencial para números complexos e descobriu sua relação com as funções trigonométricas.\n",
    "\n",
    "![img](https://i.imgur.com/iHv4pUy.png)\n",
    "\n",
    "A Equação de Euler, também conhecida como identidade de Euler, é frequentemente citada como um exemplo de profunda beleza matemática.\n",
    "\n",
    "Ela é representada pela igualdade:\n",
    "\n",
    "\\begin{equation} e^{i\\pi} + 1 = 0\\end{equation}\n",
    "\n",
    "Em que:\n",
    "\n",
    "- $e$ é o número de Euler, a base dos logaritmos naturais\n",
    "- $i$ é a unidade imaginária, que satisfaz $i^2 = -1$\n",
    "- $\\pi$ é o conhecido pi, a razão entre a circunferência de um círculo e seu diâmetro\n",
    "\n",
    "Na Equação de Euler, três das operações aritméticas básicas ocorrem exatamente uma vez cada: **adição**, **multiplicação** e **exponenciação**. A identidade também vincula cinco constantes matemáticas fundamentais:\n",
    "\n",
    "- O número 0\n",
    "- O número 1\n",
    "- O número $\\pi$ ($\\pi = 3.1415...$)\n",
    "- O número $e$ ($e = 2.7182...$)\n",
    "- O número $i$, a unidade imaginária de números complexos\n",
    "\n",
    "Fundamentalmente a Identidade de Euler afirma que $e^{i \\pi}$ é igual a $-1$. A expressão $e^{i \\pi}$ é um caso especial da expressão $e^z$, onde $z$ pode ser qualquer número complexo. Em geral, $e^z$ é definido para o complexo $z$ estendendo uma das definições da função exponencial de expoentes reais para expoentes complexos. \n",
    "\n",
    "Por exemplo, uma definição comum é\n",
    "\n",
    "\\begin{equation} e^z = \\lim_{n\\to\\infty}\\left(1 + \\frac{{z}}{{n}}\\right)^n\\end{equation}\n",
    "\n",
    "A Identidade de Euler então afirma que o limite, ao $n$ aproximar o **infinito**, de $(1 + \\frac{i \\pi}{n})^n$ é igual a $-1$.\n",
    "\n",
    "Para compreendermos melhor essa ideia do limite, podemos observar a seguinte animação:\n",
    "\n",
    "![img](https://upload.wikimedia.org/wikipedia/commons/0/0e/ExpIPi.gif)\n",
    "\n",
    "A Identidade de Euler é considerada um caso especial da fórmula de Euler, ao qual afirma que para qualquer número real $x$:\n",
    "\n",
    "\\begin{equation} e^{i\\theta} = \\cos{\\theta} + i\\sin{\\theta}\\end{equation}\n",
    "\n",
    "Onde os dados de entrada das funções trigonométricas **seno** e **cosseno** são dados em radianos. Em particular, quando $x = \\pi$:\n",
    "\n",
    "\\begin{equation} e^{i\\theta} = \\cos{\\pi} + i\\sin{\\pi}\\end{equation}\n",
    "\n",
    "Sabemos que:\n",
    "\n",
    "\\begin{equation}\\cos{\\pi} = -1\\end{equation} \n",
    "\n",
    "\\begin{equation}\\sin{\\pi} = 0\\end{equation}\n",
    "\n",
    "Então temos que:\n",
    "\n",
    "\\begin{equation}e^{i\\pi} = -1 + 0i\\end{equation}\n",
    "\n",
    "Que nos leva até a Identidade de Euler:\n",
    "\n",
    "\\begin{equation} e^{i\\pi} + 1 = 0\\end{equation}\n",
    "\n",
    "Ao qual nos mostra a surpreendente conexão entre cinco dos mais significantes números da Matemática. \n",
    "\n",
    "Existem muitas provas para a **Identidade de Euler**, neste caso específico utilizaremos a prova com a **[série de Taylor](http://mathworld.wolfram.com/TaylorSeries.html)**, com a biblioteca **SymPy**.\n",
    "\n",
    "A ideia básica da série de Taylor é que muitas (porém, nem todas) funções na linha real podem ser representadas por polinômios de grau infinito. O mais conhecido exemplo de uma série de Taylor é a soma da série geométrica:\n",
    "\n",
    "\\begin{equation}\\frac{1}{1 - x} = 1 + x + x^2 + x^3 + x^4 + x^5 ...\\end{equation}\n",
    "\n",
    "para $|x| < 1$\n",
    "\n",
    "Podemos ilustrar essa soma em SymPy da seguinte maneira:"
   ]
  },
  {
   "cell_type": "code",
   "execution_count": 3,
   "metadata": {},
   "outputs": [
    {
     "data": {
      "image/png": "[encoded data removed]",
      "text/latex": [
       "$\\displaystyle 1 + x + x^{2} + x^{3} + x^{4} + x^{5} + O\\left(x^{6}\\right)$"
      ],
      "text/plain": [
       "         2    3    4    5    ⎛ 6⎞\n",
       "1 + x + x  + x  + x  + x  + O⎝x ⎠"
      ]
     },
     "execution_count": 3,
     "metadata": {},
     "output_type": "execute_result"
    }
   ],
   "source": [
    "import sympy as sym\n",
    "sym.init_printing()\n",
    "\n",
    "x = sym.Symbol('x')\n",
    "sym.series(1 / (1 - x))"
   ]
  },
  {
   "cell_type": "markdown",
   "metadata": {},
   "source": [
    "O termo:"
   ]
  },
  {
   "cell_type": "code",
   "execution_count": 4,
   "metadata": {},
   "outputs": [
    {
     "data": {
      "image/png": "[encoded data removed]",
      "text/latex": [
       "$\\displaystyle O\\left(x^{6}\\right)$"
      ],
      "text/plain": [
       " ⎛ 6⎞\n",
       "O⎝x ⎠"
      ]
     },
     "execution_count": 4,
     "metadata": {},
     "output_type": "execute_result"
    }
   ],
   "source": [
    "sym.Order(x**6)"
   ]
  },
  {
   "cell_type": "markdown",
   "metadata": {},
   "source": [
    "Ele indica que todos os termos omitidos possuem um grau maior que ou igual a 6. Naturalmente, SymPy pode apenas calcular muitos termos finitos de funções de série de Taylor. Nós podemos controlar o número de termos da série de Taylor calculada por SymPy ao passarmos o argumento opcional **n** para sympy.series. Por exemplo, nós podemos calcular os 10 primeiros termos da série geométrica da seguinte maneira:"
   ]
  },
  {
   "cell_type": "code",
   "execution_count": 5,
   "metadata": {},
   "outputs": [
    {
     "data": {
      "image/png": "[encoded data removed]",
      "text/latex": [
       "$\\displaystyle 1 + x + x^{2} + x^{3} + x^{4} + x^{5} + x^{6} + x^{7} + x^{8} + x^{9} + O\\left(x^{10}\\right)$"
      ],
      "text/plain": [
       "         2    3    4    5    6    7    8    9    ⎛ 10⎞\n",
       "1 + x + x  + x  + x  + x  + x  + x  + x  + x  + O⎝x  ⎠"
      ]
     },
     "execution_count": 5,
     "metadata": {},
     "output_type": "execute_result"
    }
   ],
   "source": [
    "sym.series(1 / (1 - x), n=10)"
   ]
  },
  {
   "cell_type": "markdown",
   "metadata": {},
   "source": [
    "Nós agora alteramos nossa atenção para a Fórmula de Euler ao definirmos a variável $\\theta$:"
   ]
  },
  {
   "cell_type": "code",
   "execution_count": 6,
   "metadata": {},
   "outputs": [
    {
     "data": {
      "image/png": "[encoded data removed]",
      "text/latex": [
       "$\\displaystyle \\theta$"
      ],
      "text/plain": [
       "\\theta"
      ]
     },
     "execution_count": 6,
     "metadata": {},
     "output_type": "execute_result"
    }
   ],
   "source": [
    "theta = sym.Symbol('\\\\theta', real=True)\n",
    "theta"
   ]
  },
  {
   "cell_type": "markdown",
   "metadata": {},
   "source": [
    "Também definimos funções para calcularmos a série de Taylor de $\\sin{\\theta}$ e $\\cos{\\theta}$ para qualquer grau de **n**."
   ]
  },
  {
   "cell_type": "code",
   "execution_count": 7,
   "metadata": {},
   "outputs": [],
   "source": [
    "def sin_series(n):\n",
    "    return sym.series(sym.sin(theta), n=n)\n",
    "\n",
    "def cos_series(n):\n",
    "    return sym.series(sym.cos(theta), n=n)"
   ]
  },
  {
   "cell_type": "markdown",
   "metadata": {},
   "source": [
    "Os termos iniciais para a série de $\\sin{\\theta}$ são:"
   ]
  },
  {
   "cell_type": "code",
   "execution_count": 8,
   "metadata": {},
   "outputs": [
    {
     "data": {
      "image/png": "[encoded data removed]",
      "text/latex": [
       "$\\displaystyle \\theta - \\frac{\\theta^{3}}{6} + \\frac{\\theta^{5}}{120} - \\frac{\\theta^{7}}{5040} + \\frac{\\theta^{9}}{362880} + O\\left(\\theta^{10}\\right)$"
      ],
      "text/plain": [
       "               3         5         7         9              \n",
       "         \\theta    \\theta    \\theta    \\theta     ⎛      10⎞\n",
       "\\theta - ─────── + ─────── - ─────── + ─────── + O⎝\\theta  ⎠\n",
       "            6        120       5040     362880              "
      ]
     },
     "execution_count": 8,
     "metadata": {},
     "output_type": "execute_result"
    }
   ],
   "source": [
    "n = 10\n",
    "sin_series(n)"
   ]
  },
  {
   "cell_type": "markdown",
   "metadata": {},
   "source": [
    "Os termos iniciais para a série de $\\cos{\\theta}$ são:"
   ]
  },
  {
   "cell_type": "code",
   "execution_count": 9,
   "metadata": {},
   "outputs": [
    {
     "data": {
      "image/png": "[encoded data removed]",
      "text/latex": [
       "$\\displaystyle 1 - \\frac{\\theta^{2}}{2} + \\frac{\\theta^{4}}{24} - \\frac{\\theta^{6}}{720} + \\frac{\\theta^{8}}{40320} + O\\left(\\theta^{10}\\right)$"
      ],
      "text/plain": [
       "          2         4         6         8              \n",
       "    \\theta    \\theta    \\theta    \\theta     ⎛      10⎞\n",
       "1 - ─────── + ─────── - ─────── + ─────── + O⎝\\theta  ⎠\n",
       "       2         24       720      40320               "
      ]
     },
     "execution_count": 9,
     "metadata": {},
     "output_type": "execute_result"
    }
   ],
   "source": [
    "cos_series(n)"
   ]
  },
  {
   "cell_type": "markdown",
   "metadata": {},
   "source": [
    "Vamos comparar essas duas séries com $e^{i\\theta}$:"
   ]
  },
  {
   "cell_type": "code",
   "execution_count": 10,
   "metadata": {},
   "outputs": [
    {
     "data": {
      "image/png": "[encoded data removed]",
      "text/latex": [
       "$\\displaystyle 1 + i \\theta - \\frac{\\theta^{2}}{2} - \\frac{i \\theta^{3}}{6} + \\frac{\\theta^{4}}{24} + \\frac{i \\theta^{5}}{120} - \\frac{\\theta^{6}}{720} - \\frac{i \\theta^{7}}{5040} + \\frac{\\theta^{8}}{40320} + \\frac{i \\theta^{9}}{362880} + O\\left(\\theta^{10}\\right)$"
      ],
      "text/plain": [
       "                     2           3         4           5         6           7\n",
       "               \\theta    ⅈ⋅\\theta    \\theta    ⅈ⋅\\theta    \\theta    ⅈ⋅\\theta \n",
       "1 + ⅈ⋅\\theta - ─────── - ───────── + ─────── + ───────── - ─────── - ─────────\n",
       "                  2          6          24        120        720        5040  \n",
       "\n",
       "         8           9              \n",
       "   \\theta    ⅈ⋅\\theta     ⎛      10⎞\n",
       " + ─────── + ───────── + O⎝\\theta  ⎠\n",
       "    40320      362880               "
      ]
     },
     "execution_count": 10,
     "metadata": {},
     "output_type": "execute_result"
    }
   ],
   "source": [
    "def exp_series(n):\n",
    "    return sym.series(sym.exp(sym.I * theta), n=n)\n",
    "\n",
    "exp_series(n)"
   ]
  },
  {
   "cell_type": "markdown",
   "metadata": {},
   "source": [
    "A ideia chave por trás dessa prova da Fórmula de Euler é que os termos dessa soma contendo $i$ são idênticos (à parte de $i$) ao termos da série de Taylor para $\\sin{\\theta}$. Similarmente, os termos não contendo $i$ são idênticos aos termos da série de Taylor de $\\cos{\\theta}$.\n",
    "\n",
    "Nós podemos ver isso com mais clareza ao pedirmos para SymPy coletar os termos contendo $i$:"
   ]
  },
  {
   "cell_type": "code",
   "execution_count": 11,
   "metadata": {},
   "outputs": [
    {
     "data": {
      "image/png": "[encoded data removed]",
      "text/latex": [
       "$\\displaystyle 1 + i \\left(\\theta - \\frac{\\theta^{3}}{6} + \\frac{\\theta^{5}}{120} - \\frac{\\theta^{7}}{5040} + \\frac{\\theta^{9}}{362880} + O\\left(\\theta^{10}\\right)\\right) - \\frac{\\theta^{2}}{2} + \\frac{\\theta^{4}}{24} - \\frac{\\theta^{6}}{720} + \\frac{\\theta^{8}}{40320} + O\\left(\\theta^{10}\\right)$"
      ],
      "text/plain": [
       "      ⎛               3         5         7         9              ⎞         2\n",
       "      ⎜         \\theta    \\theta    \\theta    \\theta     ⎛      10⎞⎟   \\theta \n",
       "1 + ⅈ⋅⎜\\theta - ─────── + ─────── - ─────── + ─────── + O⎝\\theta  ⎠⎟ - ───────\n",
       "      ⎝            6        120       5040     362880              ⎠      2   \n",
       "\n",
       "         4         6         8              \n",
       "   \\theta    \\theta    \\theta     ⎛      10⎞\n",
       " + ─────── - ─────── + ─────── + O⎝\\theta  ⎠\n",
       "      24       720      40320               "
      ]
     },
     "execution_count": 11,
     "metadata": {},
     "output_type": "execute_result"
    }
   ],
   "source": [
    "sym.collect(exp_series(n), sym.I)"
   ]
  },
  {
   "cell_type": "markdown",
   "metadata": {},
   "source": [
    "Imediatamente podemos reconhecer essa expresão como $\\cos{\\theta} + i\\sin{\\theta}$.\n",
    "\n",
    "Além dessa inspeção visual, SymPy torna ligeiramente fácil a verificação se a série de Taylor está de acordo com quantidade grande de número de termos."
   ]
  },
  {
   "cell_type": "code",
   "execution_count": 12,
   "metadata": {},
   "outputs": [
    {
     "data": {
      "image/png": "[encoded data removed]",
      "text/latex": [
       "$\\displaystyle O\\left(\\theta^{100}\\right)$"
      ],
      "text/plain": [
       " ⎛      100⎞\n",
       "O⎝\\theta   ⎠"
      ]
     },
     "execution_count": 12,
     "metadata": {},
     "output_type": "execute_result"
    }
   ],
   "source": [
    "N = 100\n",
    "\n",
    "sym.simplify(exp_series(N) - (cos_series(N) + sym.I * sin_series(N)))"
   ]
  }
 ],
 "metadata": {
  "kernelspec": {
   "display_name": "Python 3",
   "language": "python",
   "name": "python3"
  },
  "language_info": {
   "codemirror_mode": {
    "name": "ipython",
    "version": 3
   },
   "file_extension": ".py",
   "mimetype": "text/x-python",
   "name": "python",
   "nbconvert_exporter": "python",
   "pygments_lexer": "ipython3",
   "version": "3.7.10"
  }
 },
 "nbformat": 4,
 "nbformat_minor": 4
}
