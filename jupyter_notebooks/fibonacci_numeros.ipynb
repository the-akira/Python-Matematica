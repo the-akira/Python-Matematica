{
 "cells": [
  {
   "cell_type": "markdown",
   "metadata": {},
   "source": [
    "# Números Fibonacci em Python\n",
    "\n",
    "Os números Fibonacci são definidos recursivamente pela seguinte equação de diferença:\n",
    "\n",
    "\\begin{equation}\n",
    "\\left\\{\n",
    "\\begin{aligned}\n",
    "    F_{n} & = F_{n-1} + F_{n-2} \\\\\n",
    "    F_1 & = 1 \\\\\n",
    "    F_0 & = 0 \\\\\n",
    "\\end{aligned}\n",
    "\\right.\n",
    "\\end{equation}\n",
    "\n",
    "É muito simples de computarmos os elementos iniciais da sequência:\n",
    "\n",
    "$0,1,1,2,3,5,8,13,21,34,...$\n",
    "\n",
    "## Derivação da Fórmula Geral\n",
    "\n",
    "É possível derivar uma fórmula geral para $F_n$ sem computarmos todos os números anteriores da sequência.\n",
    "Se uma série geométrica (uma série com uma razão constante entre seus termos consecutivos $r^n$) é para resolver a equação de diferença, nós devemos ter:\n",
    "\n",
    "\\begin{aligned}\n",
    "    r^n = r^{n-1} + r^{n-2} \\\\\n",
    "\\end{aligned}\n",
    "\n",
    "No qual é equivalente à:\n",
    "\n",
    "\\begin{aligned}\n",
    "    r^2 = r + 1 \\\\\n",
    "\\end{aligned}\n",
    "\n",
    "Esta equação tem duas soluções únicas:\n",
    "\n",
    "\\begin{aligned}\n",
    "    \\varphi = & \\frac{1 + \\sqrt{5}}{2} \\approx 1.61803\\cdots \\\n",
    "    \\psi = & \\frac{1 - \\sqrt{5}}{2} = 1 - \\varphi = - {1 \\over \\varphi} \\approx -0.61803\\cdots \\\n",
    "\\end{aligned}\n",
    "\n",
    "Particularmente, a raiz maior é conhecida como o **golden ratio**\n",
    "\n",
    "\\begin{align}\n",
    "\\varphi = \\frac{1 + \\sqrt{5}}{2} \\approx 1.61803\\cdots\n",
    "\\end{align}\n",
    "\n",
    "Agora, já que ambas as raízes resolvem a equação de diferença para os números Fibonacci, qualquer combinação linear das duas sequência também resolvem-no\n",
    "\n",
    "\\begin{aligned}\n",
    "    a \\left(\\frac{1 + \\sqrt{5}}{2}\\right)^n + b \\left(\\frac{1 - \\sqrt{5}}{2}\\right)^n \\\\\n",
    "\\end{aligned}\n",
    "\n",
    "Não é difícil de observarmos que todos os números Fibonacci devem ser dessa forma geral porque nós podemos unicamente resolver para $a$ e $b$ de forma que as condições iniciais de $F_1 = 1$ e $F_0 = 0$ são encontradas\n",
    "\n",
    "\\begin{equation}\n",
    "\\left\\{\n",
    "\\begin{aligned}\n",
    "    F_0 = 0 = a \\left(\\frac{1 + \\sqrt{5}}{2}\\right)^0 + b \\left(\\frac{1 - \\sqrt{5}}{2}\\right)^0 \\\\\n",
    "    F_1 = 1 = a \\left(\\frac{1 + \\sqrt{5}}{2}\\right)^1 + b \\left(\\frac{1 - \\sqrt{5}}{2}\\right)^1 \\\\\n",
    "\\end{aligned}\n",
    "\\right.\n",
    "\\end{equation}\n",
    "\n",
    "Produzindo\n",
    "\n",
    "\\begin{equation}\n",
    "\\left\\{\n",
    "\\begin{aligned}\n",
    "    a = \\frac{1}{\\sqrt{5}} \\\\\n",
    "    b = \\frac{-1}{\\sqrt{5}} \\\\\n",
    "\\end{aligned}\n",
    "\\right.\n",
    "\\end{equation}\n",
    "\n",
    "Nós então derivamos a fórmula geral para o $n$ número Fibonacci\n",
    "\n",
    "\\begin{aligned}\n",
    "    F_n = \\frac{1}{\\sqrt{5}} \\left(\\frac{1 + \\sqrt{5}}{2}\\right)^n - \\frac{1}{\\sqrt{5}} \\left(\\frac{1 - \\sqrt{5}}{2}\\right)^n \\\\\n",
    "\\end{aligned}\n",
    "\n",
    "Uma vez que o segundo termo tem um valor absoluto menor do que 1, nós podemos ver as razões dos números Fibonacci convergirem para o golden ratio\n",
    "\n",
    "\\begin{aligned}\n",
    "    \\lim_{n \\rightarrow \\infty} \\frac{F_n}{F_{n-1}} = \\frac{1 + \\sqrt{5}}{2}\n",
    "\\end{aligned}"
   ]
  },
  {
   "cell_type": "markdown",
   "metadata": {},
   "source": [
    "## Implementações em Python\n",
    "\n",
    "Escrever uma função em Python que seja capaz de imprimir o número Fibonacci **n** parece muito simples. Entretanto, até mesmo nesse simples caso nós devemos estar cientes de algumas sutilezas computacionais de forma a evitarmos erros e melhorarmos a eficiência da computação\n",
    "\n",
    "## Erro comum 1: Recursão ineficiente\n",
    "\n",
    "Aqui vamos mostrar uma implementação recursiva"
   ]
  },
  {
   "cell_type": "code",
   "execution_count": 7,
   "metadata": {},
   "outputs": [
    {
     "name": "stdout",
     "output_type": "stream",
     "text": [
      "[0, 1, 1, 2, 3, 5, 8, 13, 21, 34, 55, 89, 144, 233, 377, 610, 987, 1597, 2584, 4181]\n"
     ]
    }
   ],
   "source": [
    "import math\n",
    "\n",
    "def fibonacci_recursivo(n):\n",
    "    if n == 0:\n",
    "        return 0\n",
    "    elif n == 1:\n",
    "        return 1\n",
    "    else:\n",
    "        return fibonacci_recursivo(n-1) + fibonacci_recursivo(n-2)\n",
    "\n",
    "print([fibonacci_recursivo(i) for i in range(20)])   "
   ]
  },
  {
   "cell_type": "markdown",
   "metadata": {},
   "source": [
    "Aparentemente a solução parece funcionar bem, entretanto a sobrecarga da recursão é na realidade muito significante quando $n$ é levemente maior. \n",
    "\n",
    "Aqui estamos computando $F_{34}$:"
   ]
  },
  {
   "cell_type": "code",
   "execution_count": 2,
   "metadata": {},
   "outputs": [
    {
     "name": "stdout",
     "output_type": "stream",
     "text": [
      "2.76 s ± 117 ms per loop (mean ± std. dev. of 7 runs, 1 loop each)\n"
     ]
    }
   ],
   "source": [
    "%timeit fibonacci_recursivo(34)"
   ]
  },
  {
   "cell_type": "markdown",
   "metadata": {},
   "source": [
    "A sobrecarga incorrida pela criação de um grande número de stack frames é tremenda. Python por padrão não executa o que é conhecido como eliminação de recursão da cauda e sendo assim, essa é uma implementação muito ineficiente. Em contraste, se tivermos uma implementação iterativa, isso acelerará dramaticamente."
   ]
  },
  {
   "cell_type": "code",
   "execution_count": 3,
   "metadata": {},
   "outputs": [],
   "source": [
    "def fibonacci_iterativo(n):\n",
    "    a, b = 0, 1\n",
    "    while n > 0:\n",
    "        a, b = b, a + b\n",
    "        n -= 1\n",
    "    return a"
   ]
  },
  {
   "cell_type": "code",
   "execution_count": 4,
   "metadata": {},
   "outputs": [
    {
     "name": "stdout",
     "output_type": "stream",
     "text": [
      "2.9 µs ± 57.1 ns per loop (mean ± std. dev. of 7 runs, 100000 loops each)\n"
     ]
    }
   ],
   "source": [
    "%timeit fibonacci_iterativo(34)"
   ]
  },
  {
   "cell_type": "markdown",
   "metadata": {},
   "source": [
    "Agora vejamos se conseguimos fazer ainda mais rápido ao eliminarmos os loops completamente e irmos diretamente para a fórmula geral que derivamos mais cedo"
   ]
  },
  {
   "cell_type": "code",
   "execution_count": 5,
   "metadata": {},
   "outputs": [],
   "source": [
    "def formula_fibonacci(n):\n",
    "    golden_ratio = (1 + math.sqrt(5)) / 2\n",
    "    val = (golden_ratio**n - (1 - golden_ratio)**n) / math.sqrt(5)\n",
    "    return int(round(val))"
   ]
  },
  {
   "cell_type": "code",
   "execution_count": 6,
   "metadata": {},
   "outputs": [
    {
     "name": "stdout",
     "output_type": "stream",
     "text": [
      "1.14 µs ± 23 ns per loop (mean ± std. dev. of 7 runs, 100000 loops each)\n"
     ]
    }
   ],
   "source": [
    "%timeit formula_fibonacci(34)"
   ]
  },
  {
   "cell_type": "markdown",
   "metadata": {},
   "source": [
    "Mais rápido ainda! E uma vez que não estamos mais utilizando looping, nós devemos esperar ver que o tempo computacional escalará melhor ao 𝑛 aumentar."
   ]
  }
 ],
 "metadata": {
  "kernelspec": {
   "display_name": "Python 3",
   "language": "python",
   "name": "python3"
  },
  "language_info": {
   "codemirror_mode": {
    "name": "ipython",
    "version": 3
   },
   "file_extension": ".py",
   "mimetype": "text/x-python",
   "name": "python",
   "nbconvert_exporter": "python",
   "pygments_lexer": "ipython3",
   "version": "3.7.10"
  }
 },
 "nbformat": 4,
 "nbformat_minor": 4
}
