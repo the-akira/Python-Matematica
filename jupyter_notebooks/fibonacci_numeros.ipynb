{
 "cells": [
  {
   "cell_type": "markdown",
   "metadata": {},
   "source": [
    "# Números Fibonacci em Python\n",
    "\n",
    "![img](https://raw.githubusercontent.com/the-akira/Python-Matematica/master/imagens/fibonacciblocks.png)\n",
    "\n",
    "## Introdução\n",
    "\n",
    "Em matemática, os números de Fibonacci, comumente denotados por $F_n$, formam uma sequência, chamada de sequência de Fibonacci, de modo que cada número é a soma dos dois precedentes, começando de **0** e **1**. \n",
    "\n",
    "Isso é:\n",
    "\n",
    "$F_0 = 0$, $F_1 = 1$\n",
    "\n",
    "e\n",
    "\n",
    "$F_n = F_{n-1} + F_{n-2}$\n",
    "\n",
    "para $n > 1$.\n",
    "\n",
    "A sequência inicia:\n",
    "\n",
    "$0, 1, 1, 2, 3, 5, 8, 13, 21, 34, 55, 89, 144, ...$\n",
    "\n",
    "Em algumas definições antigas, o valor $F_0 = 0$ é omitido, de forma que a sequência inicia com $F_1 = F_2 = 1$, e a recorrência:\n",
    "\n",
    "\\begin{equation}\n",
    "\\left\\{\n",
    "\\begin{aligned}\n",
    "    F_{n} & = F_{n-1} + F_{n-2} \\\\\n",
    "    F_1 & = 1 \\\\\n",
    "    F_2 & = 1 \\\\\n",
    "\\end{aligned}\n",
    "\\right.\n",
    "\\end{equation}\n",
    "\n",
    "É válida para $n > 2$. Em sua definição original, Fibonacci iniciou a sequência com $F_1 = 1, F_2 = 1$."
   ]
  },
  {
   "cell_type": "markdown",
   "metadata": {},
   "source": [
    "## Derivação da Fórmula Geral\n",
    "\n",
    "Como toda sequência definida por uma recorrência linear com coeficientes constantes, os números de Fibonacci têm uma expressão de forma fechada que tornou-se conhecida como fórmula de Binet, em homenagem ao matemático francês Jacques Philippe Marie Binet.\n",
    "\n",
    "É possível derivar uma fórmula geral para $F_n$ sem computarmos todos os números anteriores da sequência.\n",
    "\n",
    "Se uma série geométrica (uma série com uma razão constante entre seus termos consecutivos $r^n$) é para resolver a equação de diferença, nós devemos ter:\n",
    "\n",
    "\\begin{aligned}\n",
    "    r^n = r^{n-1} + r^{n-2} \\\\\n",
    "\\end{aligned}\n",
    "\n",
    "No qual é equivalente à:\n",
    "\n",
    "\\begin{aligned}\n",
    "    r^2 = r + 1 \\\\\n",
    "\\end{aligned}\n",
    "\n",
    "Esta equação tem duas soluções únicas:\n",
    "\n",
    "\\begin{aligned}\n",
    "    \\varphi = & \\frac{1 + \\sqrt{5}}{2} \\approx 1.61803\\cdots \n",
    "\\end{aligned}\n",
    "\n",
    "\\begin{aligned}\n",
    "    \\psi = & \\frac{1 - \\sqrt{5}}{2} = 1 - \\varphi = - {1 \\over \\varphi} \\approx -0.61803\\cdots\n",
    "\\end{aligned}\n",
    "\n",
    "Particularmente, a raiz maior é conhecida como o **golden ratio**:\n",
    "\n",
    "\\begin{align}\n",
    "\\varphi = \\frac{1 + \\sqrt{5}}{2} \\approx 1.61803\\cdots\n",
    "\\end{align}\n",
    "\n",
    "Agora, já que ambas as raízes resolvem a equação de diferença para os números Fibonacci, qualquer combinação linear das duas sequência também resolvem-no:\n",
    "\n",
    "\\begin{aligned}\n",
    "    a \\left(\\frac{1 + \\sqrt{5}}{2}\\right)^n + b \\left(\\frac{1 - \\sqrt{5}}{2}\\right)^n \\\\\n",
    "\\end{aligned}\n",
    "\n",
    "Não é difícil de observarmos que todos os números Fibonacci devem ser dessa forma geral, porque nós podemos unicamente resolver para $a$ e $b$ de forma que as condições iniciais de $F_1 = 1$ e $F_0 = 0$ são encontradas:\n",
    "\n",
    "\\begin{equation}\n",
    "\\left\\{\n",
    "\\begin{aligned}\n",
    "    F_0 = 0 = a \\left(\\frac{1 + \\sqrt{5}}{2}\\right)^0 + b \\left(\\frac{1 - \\sqrt{5}}{2}\\right)^0 \\\\\n",
    "    F_1 = 1 = a \\left(\\frac{1 + \\sqrt{5}}{2}\\right)^1 + b \\left(\\frac{1 - \\sqrt{5}}{2}\\right)^1 \\\\\n",
    "\\end{aligned}\n",
    "\\right.\n",
    "\\end{equation}\n",
    "\n",
    "Produzindo:\n",
    "\n",
    "\\begin{equation}\n",
    "\\left\\{\n",
    "\\begin{aligned}\n",
    "    a = \\frac{1}{\\sqrt{5}} \\\\\n",
    "    b = \\frac{-1}{\\sqrt{5}} \\\\\n",
    "\\end{aligned}\n",
    "\\right.\n",
    "\\end{equation}\n",
    "\n",
    "Nós então derivamos a fórmula geral para o $n$-ésimo número Fibonacci:\n",
    "\n",
    "\\begin{aligned}\n",
    "    F_n = \\frac{1}{\\sqrt{5}} \\left(\\frac{1 + \\sqrt{5}}{2}\\right)^n - \\frac{1}{\\sqrt{5}} \\left(\\frac{1 - \\sqrt{5}}{2}\\right)^n \\\\\n",
    "\\end{aligned}\n",
    "\n",
    "Uma vez que o segundo termo tem um valor absoluto menor do que 1, nós podemos ver as razões dos números Fibonacci convergirem para o **golden ratio**:\n",
    "\n",
    "\\begin{aligned}\n",
    "    \\lim_{n \\rightarrow \\infty} \\frac{F_n}{F_{n-1}} = \\frac{1 + \\sqrt{5}}{2}\n",
    "\\end{aligned}"
   ]
  },
  {
   "cell_type": "markdown",
   "metadata": {},
   "source": [
    "## Implementações em Python\n",
    "\n",
    "Escrever uma função em Python que seja capaz de imprimir o número Fibonacci **n** parece muito simples. \n",
    "\n",
    "Entretanto, até mesmo nesse simples caso nós devemos estar cientes de algumas sutilezas computacionais de forma a evitarmos erros e melhorarmos a eficiência da computação.\n",
    "\n",
    "### Erro Comum: Recursão Ineficiente\n",
    "\n",
    "Apresentamos a seguir uma solução recursiva:"
   ]
  },
  {
   "cell_type": "code",
   "execution_count": 1,
   "metadata": {},
   "outputs": [
    {
     "name": "stdout",
     "output_type": "stream",
     "text": [
      "[0, 1, 1, 2, 3, 5, 8, 13, 21, 34, 55, 89, 144, 233, 377, 610, 987, 1597, 2584, 4181]\n"
     ]
    }
   ],
   "source": [
    "import math\n",
    "\n",
    "def fibonacci_recursivo(n):\n",
    "    if n == 0:\n",
    "        return 0\n",
    "    elif n == 1:\n",
    "        return 1\n",
    "    else:\n",
    "        return fibonacci_recursivo(n-1) + fibonacci_recursivo(n-2)\n",
    "\n",
    "print([fibonacci_recursivo(i) for i in range(20)])   "
   ]
  },
  {
   "cell_type": "markdown",
   "metadata": {},
   "source": [
    "Aparentemente a solução parece funcionar bem, entretanto a sobrecarga da recursão é na realidade muito significante quando $n$ é levemente maior. \n",
    "\n",
    "Aqui estamos computando $F_{34}$:"
   ]
  },
  {
   "cell_type": "code",
   "execution_count": 2,
   "metadata": {},
   "outputs": [
    {
     "name": "stdout",
     "output_type": "stream",
     "text": [
      "2.65 s ± 86.4 ms per loop (mean ± std. dev. of 7 runs, 1 loop each)\n"
     ]
    }
   ],
   "source": [
    "%timeit fibonacci_recursivo(34)"
   ]
  },
  {
   "cell_type": "markdown",
   "metadata": {},
   "source": [
    "A sobrecarga incorrida pela criação de um grande número de stack frames é tremenda. Python por padrão não executa o que é conhecido como **tail recursion elimination** e sendo assim, essa é uma implementação muito ineficiente. \n",
    "\n",
    "Em contraste, se tivermos uma implementação iterativa, isso acelerará dramaticamente a solução:"
   ]
  },
  {
   "cell_type": "code",
   "execution_count": 3,
   "metadata": {},
   "outputs": [],
   "source": [
    "def fibonacci_iterativo(n):\n",
    "    a, b = 0, 1\n",
    "    while n > 0:\n",
    "        a, b = b, a + b\n",
    "        n -= 1\n",
    "    return a"
   ]
  },
  {
   "cell_type": "code",
   "execution_count": 4,
   "metadata": {},
   "outputs": [
    {
     "name": "stdout",
     "output_type": "stream",
     "text": [
      "3.1 µs ± 287 ns per loop (mean ± std. dev. of 7 runs, 100000 loops each)\n"
     ]
    }
   ],
   "source": [
    "%timeit fibonacci_iterativo(34)"
   ]
  },
  {
   "cell_type": "markdown",
   "metadata": {},
   "source": [
    "Agora vejamos se conseguimos fazer ainda mais rápido ao eliminarmos os loops completamente e irmos diretamente para a fórmula geral que derivamos mais cedo:"
   ]
  },
  {
   "cell_type": "code",
   "execution_count": 5,
   "metadata": {},
   "outputs": [],
   "source": [
    "def formula_fibonacci(n):\n",
    "    golden_ratio = (1 + math.sqrt(5)) / 2\n",
    "    val = (golden_ratio**n - (1 - golden_ratio)**n) / math.sqrt(5)\n",
    "    return int(round(val))"
   ]
  },
  {
   "cell_type": "code",
   "execution_count": 6,
   "metadata": {},
   "outputs": [
    {
     "name": "stdout",
     "output_type": "stream",
     "text": [
      "1.14 µs ± 16.7 ns per loop (mean ± std. dev. of 7 runs, 1000000 loops each)\n"
     ]
    }
   ],
   "source": [
    "%timeit formula_fibonacci(34)"
   ]
  },
  {
   "cell_type": "markdown",
   "metadata": {},
   "source": [
    "Mais rápido ainda! E uma vez que não estamos mais utilizando looping, nós devemos esperar ver que o tempo computacional escalará melhor ao 𝑛 aumentar."
   ]
  },
  {
   "cell_type": "markdown",
   "metadata": {},
   "source": [
    "### Desenhando o Espiral de Fibonacci\n",
    "\n",
    "Os números de Fibonacci na sequência de Fibonacci frequentemente aparecerão diante de nossos olhos, como pinhas, abacaxis, o arranjo das folhas, o número de pétalas de certas flores e assim por diante. Também por causa de várias \"coincidências\" na natureza, a espiral de Fibonacci formada pela sequência de Fibonacci também é chamado de \"Curva de Deus\".\n",
    "\n",
    "Para que possamos desenhar o espiral, primeiro vamos definir uma função que irá nos retornar a sequência de Fibonacci até o número que escolhermos:"
   ]
  },
  {
   "cell_type": "code",
   "execution_count": 9,
   "metadata": {},
   "outputs": [],
   "source": [
    "import numpy as np\n",
    "\n",
    "def fibo_seq(n):\n",
    "    if n == 0:\n",
    "        fibo_list = np.array([0])\n",
    "    elif n == 1:\n",
    "        fibo_list = np.array([0,1])\n",
    "    else:\n",
    "        f_0, f_1 = 0, 1\n",
    "        fibo_list = np.array([f_0,f_1])\n",
    "        for i in np.arange(n-2):\n",
    "            fibo_num = f_0 + f_1\n",
    "            fibo_list = np.append(fibo_list,fibo_num)\n",
    "            f_0, f_1 = f_1, fibo_num\n",
    "    return fibo_list"
   ]
  },
  {
   "cell_type": "markdown",
   "metadata": {},
   "source": [
    "A seguir podemos testar a função computando os 10 primeiros números da sequência:"
   ]
  },
  {
   "cell_type": "code",
   "execution_count": 11,
   "metadata": {},
   "outputs": [
    {
     "name": "stdout",
     "output_type": "stream",
     "text": [
      "[ 0  1  1  2  3  5  8 13 21 34]\n"
     ]
    }
   ],
   "source": [
    "print(fibo_seq(10))"
   ]
  },
  {
   "cell_type": "markdown",
   "metadata": {},
   "source": [
    "Agora precisamos encontrar os pontos correspondentes a cada 1/4 de círculo no gráfico.\n",
    "\n",
    "Da mesma forma, se você desenhar qualquer centro de um círculo, você precisa encontrar a regra primeiro.\n",
    "\n",
    "Liste as primeiras coordenadas do centro do círculo da seguinte forma:\n",
    "\n",
    "| n  | (x,y) | Fibonacci | Flag |\n",
    "|---|---|---|---|\n",
    "| 1  | (0,0)  |  0 | 1  |\n",
    "| 2  | (1,0)  |  1 | 1  |\n",
    "| 3  | (1,-1)  | 1  | -1  |\n",
    "| 4  | (-1,-1)  | 2  | -1  |\n",
    "| 5  | (-1,2)  | 3  | 1  |\n",
    "| 6  | (4,2)  | 5  | 1  |\n",
    "| 7  | (4,-6)  | 8  | -1  |\n",
    "| 8  | (-9,-6)  | 13  | -1  |\n",
    "| 9  | (-9,15)  | 21  |  1 |\n",
    "| 10  | (25,15)  | 34  | 1  |\n",
    "\n",
    "Como apresentamos na tabela acima:\n",
    "\n",
    "1. As coordenadas do centro do círculo são as coordenadas (**x**, **y**), em cada duas elas mudam uma. \n",
    "2. Para a abscissa x do n-ésimo centro do círculo, cada vez que ela muda, a sequência de números de Fibonacci é adicionada ou removida do n-ésimo termo. A mesma regra se aplica à ordenada y.\n",
    "3. Adicione ou subtraia o número ordinal do enésimo item, consulte a série de flags na tabela para a regra. \n",
    "\n",
    "A lei pode ser expressa da seguinte forma:\n",
    "\n",
    "$(-1)^{1+\\frac{mod(n,2)+n}{2}} (−1)1+2mod(n,2)+n$\n",
    "\n",
    "Em resumo, a coordenada **x** e **y** podem ser expressas como:\n",
    "\n",
    "$x(n)=x(n-1)+mod(n+1,2)\\times{F(n)}\\times{(-1)^{1+\\frac{mod(n,2)+n}{2}}}$\n",
    "\n",
    "$x(n)=x(n−1)+mod(n+1,2)×F(n)×(−1)1+2mod(n,2)+n$\n",
    "\n",
    "$y(n)=y(n-1)+mod(n,2)\\times{F(n)}\\times{(-1)^{1+\\frac{mod(n,2)+n}{2}}}$\n",
    "\n",
    "$y(n)=y(n−1)+mod(n,2)×F(n)×(−1)1+2mod(n,2)+n$\n",
    "\n",
    "Entre eles, a sequência de Fibonacci é representada por $F(n)$:"
   ]
  },
  {
   "cell_type": "code",
   "execution_count": 12,
   "metadata": {},
   "outputs": [],
   "source": [
    "def find_o_xy(f_list):\n",
    "    # Coordenadas iniciais do centro do círculo\n",
    "    x_n, y_n = 0, 0\n",
    "    o_x_array, o_y_array = np.array([x_n]), np.array([y_n])\n",
    "    for n in np.arange(1,len(f_list)):\n",
    "        # O primeiro item foi dado como o ponto inicial\n",
    "        y_n = y_n + np.mod(n+1,2) * f_list[n] * (-1)**(1+(np.mod(n+1,2)+n+1)/2)\n",
    "        x_n = x_n + np.mod(n,2) * f_list[n] * (-1)**(1+(np.mod(n+1,2)+n+1)/2)\n",
    "        # Coordenadas (x,y) horitontal e vertical\n",
    "        o_x_array = np.append(o_x_array, x_n)\n",
    "        o_y_array = np.append(o_y_array, y_n)\n",
    "    return o_x_array, o_y_array"
   ]
  },
  {
   "cell_type": "markdown",
   "metadata": {},
   "source": [
    "Com esta função podemos então encontrar as coordenadas:"
   ]
  },
  {
   "cell_type": "code",
   "execution_count": 13,
   "metadata": {},
   "outputs": [
    {
     "name": "stdout",
     "output_type": "stream",
     "text": [
      "[ 0.  1.  1. -1. -1.  4.  4. -9. -9. 25.] [ 0.  0. -1. -1.  2.  2. -6. -6. 15. 15.]\n"
     ]
    }
   ],
   "source": [
    "sequencia = fibo_seq(10)\n",
    "x, y = find_o_xy(sequencia)\n",
    "print(x,y)"
   ]
  },
  {
   "cell_type": "markdown",
   "metadata": {},
   "source": [
    "E agora podemos plotar o gráfico com os pontos:"
   ]
  },
  {
   "cell_type": "code",
   "execution_count": 18,
   "metadata": {},
   "outputs": [
    {
     "data": {
      "image/png": "[encoded data removed]",
      "text/plain": [
       "<Figure size 720x432 with 1 Axes>"
      ]
     },
     "metadata": {
      "needs_background": "light"
     },
     "output_type": "display_data"
    }
   ],
   "source": [
    "import matplotlib.pyplot as plt\n",
    "\n",
    "plt.figure(figsize=(10,6))\n",
    "plt.plot(x, y, marker='o', linestyle=\"\");"
   ]
  },
  {
   "cell_type": "markdown",
   "metadata": {},
   "source": [
    "Para melhor compreensão, podemos conectá-los com linhas:"
   ]
  },
  {
   "cell_type": "code",
   "execution_count": 19,
   "metadata": {},
   "outputs": [
    {
     "data": {
      "image/png": "[encoded data removed]",
      "text/plain": [
       "<Figure size 720x432 with 1 Axes>"
      ]
     },
     "metadata": {
      "needs_background": "light"
     },
     "output_type": "display_data"
    }
   ],
   "source": [
    "plt.figure(figsize=(10,6))\n",
    "plt.plot(x, y, marker='o');"
   ]
  },
  {
   "cell_type": "markdown",
   "metadata": {},
   "source": [
    "Sabendo a localização do centro do círculo, o raio do círculo muda de acordo com a sequência de números. \n",
    "\n",
    "Portanto, uma curva pode ser desenhada. Vamos tomar $n = 7$ como um exemplo:"
   ]
  },
  {
   "cell_type": "code",
   "execution_count": 27,
   "metadata": {},
   "outputs": [
    {
     "data": {
      "image/png": "[encoded data removed]",
      "text/plain": [
       "<Figure size 720x432 with 1 Axes>"
      ]
     },
     "metadata": {
      "needs_background": "light"
     },
     "output_type": "display_data"
    }
   ],
   "source": [
    "count = 7\n",
    "f_list = fibo_seq(count)\n",
    "x0_array, y0_array = find_o_xy(f_list)\n",
    "\n",
    "# O comprimento lateral correspondente a cada quadrado, conforme mostrado no exemplo, o raio começa em 1, 2, ...\n",
    "f_list_r = fibo_seq(count+2)[2::]\n",
    "\n",
    "# Desenhar o círculo 1/4 em cada quadrado\n",
    "plt.figure(figsize=(10,6))\n",
    "start_angle, end_angle = np.pi, 1.5 * np.pi\n",
    "\n",
    "for n in np.arange(len(f_list)):\n",
    "    t = np.arange(start_angle,end_angle,0.001)\n",
    "    circle_x = (f_list_r[n]) * (np.sin(t)) + x0_array[n]\n",
    "    circle_y = (f_list_r[n]) * (np.cos(t)) + y0_array[n]\n",
    "    start_angle += 0.5 * np.pi\n",
    "    end_angle += 0.5 * np.pi\n",
    "    plt.plot(circle_x,circle_y,color='b')"
   ]
  },
  {
   "cell_type": "markdown",
   "metadata": {},
   "source": [
    "Para imitarmos o diagrama clássico da espiral de Fibonacci, desenhamos os quadrados:"
   ]
  },
  {
   "cell_type": "code",
   "execution_count": 31,
   "metadata": {},
   "outputs": [
    {
     "data": {
      "image/png": "[encoded data removed]",
      "text/plain": [
       "<Figure size 720x432 with 1 Axes>"
      ]
     },
     "metadata": {
      "needs_background": "light"
     },
     "output_type": "display_data"
    }
   ],
   "source": [
    "count = 7\n",
    "f_list = fibo_seq(count)\n",
    "x0_array, y0_array = find_o_xy(f_list)\n",
    "\n",
    "f_list_r = fibo_seq(count+2)[2::] # O comprimento lateral correspondente de cada quadrado\n",
    "square_list = np.zeros([1,2,5])\n",
    "start_angle, end_angle = np.pi, 1.5 * np.pi\n",
    "\n",
    "plt.figure(figsize=(10,6))\n",
    "for n in np.arange(len(f_list_r)):\n",
    "    # Coordenadas do centro do círculo\n",
    "    x0 = x0_array[n]\n",
    "    y0 = y0_array[n]\n",
    "    \n",
    "    # Obtenha coordenadas diagonais de vértice\n",
    "    x2 = x0+f_list_r[n]*(-1)**((np.mod(n+1,2)+n+1)/2)\n",
    "    if n == 0:\n",
    "        y2 = -1 # Ponto de partida especial         \n",
    "    else:\n",
    "        y2 = y0+f_list_r[n]*(-1)**(1+(np.mod(n,2)+n)/2)\n",
    "\n",
    "    # As duas coordenadas restantes\n",
    "    x1, x3 = x0, x2\n",
    "    y1, y3 = y2, y0\n",
    "    \n",
    "    # Integrar, desenhar um quadrado precisa-se voltar à origem, então 5 pontos\n",
    "    pp = np.array([[[x0,x1,x2,x3,x0],[y0,y1,y2,y3,y0]]])\n",
    "    \n",
    "    # Desenhar o arco\n",
    "    t = np.arange(start_angle,end_angle,0.001)\n",
    "    circle_x = (f_list_r[n]) * (np.sin(t)) + x0_array[n]\n",
    "    circle_y = (f_list_r[n]) * (np.cos(t)) + y0_array[n]\n",
    "    start_angle += 0.5 * np.pi\n",
    "    end_angle += 0.5 * np.pi\n",
    "    \n",
    "    plt.plot(pp[0][0][::], pp[0][1][::], color='b')\n",
    "    plt.plot(circle_x, circle_y, color='b')"
   ]
  }
 ],
 "metadata": {
  "kernelspec": {
   "display_name": "Python 3",
   "language": "python",
   "name": "python3"
  },
  "language_info": {
   "codemirror_mode": {
    "name": "ipython",
    "version": 3
   },
   "file_extension": ".py",
   "mimetype": "text/x-python",
   "name": "python",
   "nbconvert_exporter": "python",
   "pygments_lexer": "ipython3",
   "version": "3.7.10"
  }
 },
 "nbformat": 4,
 "nbformat_minor": 4
}
